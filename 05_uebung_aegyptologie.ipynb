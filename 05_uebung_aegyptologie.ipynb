{
 "cells": [
  {
   "cell_type": "markdown",
   "metadata": {},
   "source": [
    "_Lizenz: Das folgende Lehrmaterial kann unter einer [CC-BY-SA 4.0](https://creativecommons.org/licenses/by/4.0/legalcode) Lizenz frei verwendet, verbreitet und modifiziert werden._   \n",
    " _Authoren: Jana Lasser (jana.lasser@ds.mpg.de)_  \n",
    " _Das Lehrmaterial wurde im Zuge des Projektes \"Daten Lesen Lernen\", gefördert vom Stifterverband und der Heinz Nixdorf Stiftung erstellt._"
   ]
  },
  {
   "cell_type": "markdown",
   "metadata": {},
   "source": [
    "# Übung 05 - Ägyptologie: Daten finden und einlesen und mit Histogrammen visualisieren\n",
    "### Praktische Hinweise\n",
    "$\\rightarrow$ Übungen sind dafür gedacht, dass ihr sie euch daheim anseht und versucht, ein paar Aufgaben selbst zu lösen. In den Tutorien könnt ihr euch weiter mit dem Lösungen der Aufgaben beschäftigen und dabei Hilfe von den Tutor*innen bekommen.  \n",
    "\n",
    "$\\rightarrow$ Wenn ein Fehler auftritt:\n",
    "1. Fehlermeldung _lesen_ und _verstehen_\n",
    "2. Versuchen, selbst eine Lösung zu finden ($\\rightarrow$ hier findet das Lernen statt!)\n",
    "3. Das Problem googlen (Stichwort: Stackoverflow) oder den/die Nachbar*in fragen\n",
    "4. Tutor*in fragen\n",
    "\n",
    "$\\rightarrow$ Unter <font color='green'>**HINWEIS**</font> werden Hinweise gegeben, die für die Lösung der Aufgabe hilfreich sind und oftmals auch weiterführende Informationen zur Aufgabe liefern.\n",
    "\n",
    "$\\rightarrow$ Mit **(Optional)** gekennzeichnete Übungsteile sind für besonders schnelle Menschen :-)."
   ]
  },
  {
   "cell_type": "markdown",
   "metadata": {},
   "source": [
    "<a name=\"top\"></a>Inhalt\n",
    "---\n",
    " Mit dieser Übung beginnen wir eine Fallstudie, die sich mit einem Datensatz aus der Ägyptologie beschäftigt. Wir werden einen koptischen Text erkunden und die Struktur der koptischen Sprache analysieren. Außerdem werden wir uns damit beschäftigen, wie wir die gewonnenen Informationen am besten visualisieren können. Die aktuelle Übung gliedert sich in drei Teile:\n",
    "* [Daten beschaffen](#daten_beschaffen)\n",
    "* [Unicode](#unicode)\n",
    "* [Histogramme](#histogramme)  \n",
    "\n",
    "Für die folgenden Übungen gibt es kein Lehrvideo. Deswegen wird es in den Jupyter-Notebooks zu den Übungen mehr Erklärungen und Zwischenschritte geben. Darüber hinaus haben ab dieser Woche auch nicht mehr alle Übungen der verschiedenen Übungsgruppen den exakt gleichen Inhalt, da einige Themenbereiche etwas unterschiedliche Werkzeuge brauchen als andere. Das Konzept ist aber überall das gleiche."
   ]
  },
  {
   "cell_type": "markdown",
   "metadata": {},
   "source": [
    "<a name=\"daten_beschaffen\"></a>1. Daten beschaffen\n",
    "---\n",
    "**A.** Lade den Ordner ```sahidica.mark_TEI``` aus dem StudIP herunter. Er liegt im Dateisystem in dem Ordner, der deiner Übungsgruppe zugeordnet ist. <font color='green'>**HINWEIS:** Es kann sein, dass du, um den Ordner zu sehen, erst der Entsprechenden Teilnehmer-Gruppe in der Lehrveranstaltung beitreten musst. </font>  \n",
    "**B.** Der Ordner enthält die drei Unterordner ```koptisch```, ```englisch``` und ```deutsch```, die 16 Kapitel des Markus-Evangeliums des neuen Testaments auf Koptisch ([Quelle](https://github.com/CopticScriptorium/corpora/tree/master/bible)) sowie Übersetzungen auf Deutsch (Luther 1912, [Quelle](https://newchristianbiblestudy.org/bible/compare/coptic-nt-sahidic/king-james-version/german-luther-1912/mark/4/)) sowie Englisch (Kind James, [Quelle](https://newchristianbiblestudy.org/bible/compare/coptic-nt-sahidic/king-james-version/german-luther-1912/mark/4/)). Woher stammen die koptischen Texte und wer hat sie kuratiert und hochgeladen? <font color='green'>**HINWEIS:** [Hier](http://data.copticscriptorium.org) sind einige koptische Texte visuell schön aufbereitet mit Übersetzung zu finden - die Seite lädt auf jeden Fall zum Schmökern ein!</font>  \n",
    "**C.** Die Texte liegen im sogenannten TEI-XML Format vor. Was ist XML und wofür wird TEI-XML benutzt? Um Texte im TEI-XML-Format einlesen zu können, brauchen wir die zusätzliche Bibliothek ```tei_reader```. Da diese Bibliothek noch nicht am Jupyter-Hub vorinstalliert ist, könnt ihr sie lokal installieren, indem ihr folgenden Code ausführt:"
   ]
  },
  {
   "cell_type": "code",
   "execution_count": 7,
   "metadata": {},
   "outputs": [
    {
     "name": "stdout",
     "output_type": "stream",
     "text": [
      "Requirement already satisfied: tei_reader in /home/jana/anaconda3/lib/python3.6/site-packages (0.0.16)\n",
      "Requirement already satisfied: beautifulsoup4 in /home/jana/anaconda3/lib/python3.6/site-packages (from tei_reader) (4.6.0)\n",
      "Requirement already satisfied: lxml in /home/jana/anaconda3/lib/python3.6/site-packages (from tei_reader) (4.2.1)\n",
      "\u001b[33mYou are using pip version 19.0.3, however version 19.1.1 is available.\n",
      "You should consider upgrading via the 'pip install --upgrade pip' command.\u001b[0m\n"
     ]
    }
   ],
   "source": [
    "# um Pakete für Python innerhalb von Python selbst zu installieren,\n",
    "# benötigen wir die Bibliothek \"sys\"\n",
    "import sys\n",
    "\n",
    "# indem wir in einer Code-Zelle Code schreiben, dem wir ein Ausrufe-\n",
    "# zeichen voranstellen veranlassen wir, dass dieser Code nicht als\n",
    "# Python-Code sondern im Terminal ausgeführt wird. Falls ihr noch\n",
    "# nie ein Terminal benutzt habt und nicht versteht, was hier passiert: \n",
    "# kein Problem, wir brauchen diese Funktionalität nur an dieser Stelle\n",
    "# und dann nicht wieder.\n",
    "# Mit dem Kommando \"pip install bibliothek\" können wir beliebige \n",
    "# Bibliotheken aus dem Python Package Index https://pypi.org/ installieren\n",
    "!{sys.executable} -m pip install tei_reader"
   ]
  },
  {
   "cell_type": "markdown",
   "metadata": {},
   "source": [
    "   Um Dateien einzulesen, die nicht im selben Verzeichnis wie unser Jupyter-Notebook liegen, lohnt es sich oft, einen Pfad zu dem Verzeichnis, im dem die Dateien liegen, zu definieren. Die Funktion ```listdir(pfad)``` der Bibliothek ```os``` zeigt alle Dateien in dem Verzeichnis an, dessen Pfad ihr übergeben wurde."
   ]
  },
  {
   "cell_type": "code",
   "execution_count": 8,
   "metadata": {},
   "outputs": [
    {
     "name": "stdout",
     "output_type": "stream",
     "text": [
      "['Mark_01.xml', 'Mark_02.xml', 'Mark_03.xml', 'Mark_04.xml', 'Mark_05.xml', 'Mark_06.xml', 'Mark_07.xml', 'Mark_08.xml', 'Mark_09.xml', 'Mark_10.xml', 'Mark_11.xml', 'Mark_12.xml', 'Mark_13.xml', 'Mark_14.xml', 'Mark_15.xml', 'Mark_16.xml']\n"
     ]
    }
   ],
   "source": [
    "# importiere die Bibliothek os, die uns Zugriff auf Funktionen des Betriebs-\n",
    "# systems (Operating System) gibt\n",
    "import os\n",
    "\n",
    "# das ist der Pfad zu dem Verzeichnis, im dem alle koptischen Texte liegen\n",
    "path_copt = \"/daten/koptisch\"\n",
    "\n",
    "# mit der Funktion \"listdir()\" lassen sich alle in einem Verzeichnis enthaltenen\n",
    "# Dateien auflisten. Wir listen also \n",
    "filenames_copt = os.listdir(path_copt)\n",
    "\n",
    "# da wir die Dateien gleich in der richtigen Reihe einlesen wollen, sortieren wir\n",
    "# diese Liste noch\n",
    "filenames_copt.sort()\n",
    "print(filenames_copt)"
   ]
  },
  {
   "cell_type": "markdown",
   "metadata": {},
   "source": [
    "   Den Pfad können wir dann mit der Funktion ```join()``` der Bibliothek ```os.path``` mit verschiedenen Dateinamen im Datei-Verzeichnis zusammenfügen, um die unterschiedlichen Dateien zu laden. Im Folgenden wird das für eines der koptischen Kapitel gezeigt:"
   ]
  },
  {
   "cell_type": "code",
   "execution_count": 9,
   "metadata": {},
   "outputs": [],
   "source": [
    "# um XML-Dateien lesen zu können, benötigen wir einen sog. \"Parser\", der\n",
    "# das spezielle Format versteht. Das erledigt die Bibliothek \"tei_reader\" für\n",
    "# uns, die auf TEI-XML-Dateien spezialisiert sind.\n",
    "import tei_reader\n",
    "\n",
    "# hier erzeugen wir ein \"TeiReader\" Objekt, das die Funktion \"read_file()\"\n",
    "# besitzt. Diesem Objekt können wir Pfade zu TEI-XML-Dateien geben, die\n",
    "# es dann für uns einliest und uns Zugriff auf den enthaltenen Text gibt\n",
    "reader = tei_reader.TeiReader()\n",
    "\n",
    "# dies ist der gesamte Pfad zur ersten XML-Datei im Verzeichnis\n",
    "path_to_file = os.path.join(path_copt, filenames_copt[0])\n",
    "\n",
    "# lies mit Hilfe der read_file()-Funktion die XML-Datei ein\n",
    "corpus = reader.read_file(path_to_file)\n",
    "\n",
    "# das Attribut \"text\" der Variable \"corpus\" beinhaltet \n",
    "# den koptischen Text, der in der XML-Datei gespeichert ist\n",
    "text_copt = corpus.text"
   ]
  },
  {
   "cell_type": "markdown",
   "metadata": {},
   "source": [
    "**D.** Zeige die ersten 100 Zeichen des eingelesenen Koptischen Textes an.   \n",
    "**E.** Iteriere über alle koptischen Texte in dem Unterverzeichnis, lies sie ein und erstelle ein DataFrame, in dem die einzelnen Kapitel gespeichert sind. Wieviele Zeichen enthält jedes Kapitel? Wieviele Zeichen enthält der Text insgesamt?  "
   ]
  },
  {
   "cell_type": "code",
   "execution_count": 10,
   "metadata": {},
   "outputs": [
    {
     "name": "stdout",
     "output_type": "stream",
     "text": [
      "['Mark_01_eng.txt', 'Mark_02_eng.txt', 'Mark_03_eng.txt', 'Mark_04_eng.txt', 'Mark_05_eng.txt', 'Mark_06_eng.txt', 'Mark_07_eng.txt', 'Mark_08_eng.txt', 'Mark_09_eng.txt', 'Mark_10_eng.txt', 'Mark_11_eng.txt', 'Mark_12_eng.txt', 'Mark_13_eng.txt', 'Mark_14_eng.txt', 'Mark_15_eng.txt', 'Mark_16_eng.txt']\n"
     ]
    }
   ],
   "source": [
    "# das ist der Pfad zu dem Verzeichnis, im dem alle englischen Texte liegen\n",
    "path_eng = \"/home/jana/DaLeLe/uebungen/daten/aegyptologie/corpora-master/bible/sahidica.mark_TEI/englisch\"\n",
    "\n",
    "# alle Dateien im Verzeichnis auflisten und sortieren\n",
    "filenames_eng = os.listdir(path_eng)\n",
    "filenames_eng.sort()\n",
    "print(filenames_eng)"
   ]
  },
  {
   "cell_type": "code",
   "execution_count": 11,
   "metadata": {},
   "outputs": [],
   "source": [
    "# dies ist der gesamte Pfad zur ersten XML-Datei im Verzeichnis\n",
    "path_to_file = os.path.join(path_eng, filenames_eng[0])\n",
    "\n",
    "# wir erzeugen ein sog. \"file-handle\", also einen \"Weg zur Datei\"\n",
    "# mit der Funktion open()\n",
    "file_handle = open(path_to_file)\n",
    "\n",
    "# wir lesen den Text mit der Funktion \"read()\" ein\n",
    "text_eng = file_handle.read()"
   ]
  },
  {
   "cell_type": "markdown",
   "metadata": {},
   "source": [
    "**F.** Lass dir den englischen Text anzeigen. Was fällt dir an der Struktur des Textes auf?  \n",
    "**G.** Iteriere (wie oben für die koptischen Texte beschrieben) über alle englischen Kapitel und speichere sie in einem DataFrame.  \n",
    "**H.** **(Optional):** Wenn du möchtest, kannst du alle Schritte auch mit dem deutschen Text nachvollziehen und im folgenden auch immer den deutschen Text mit bearbeiten."
   ]
  },
  {
   "cell_type": "markdown",
   "metadata": {},
   "source": [
    "[Anfang](#top)"
   ]
  },
  {
   "cell_type": "markdown",
   "metadata": {},
   "source": [
    "<a name=\"unicode\"></a>2. Unicode\n",
    "---\n",
    "**A.** Die Texte in koptischer, englischer und deutscher Sprache sind in sog. [Unicode](https://de.wikipedia.org/wiki/Unicode) kodiert. Was ist Unicode und warum ist er hilfreich, um koptische Schrift zu kodieren und darzustellen?  \n",
    "Im Folgenden sehen wir uns die im Koptischen verwendeten Symbole und ihre Kodierung etwas genauer an:"
   ]
  },
  {
   "cell_type": "code",
   "execution_count": 35,
   "metadata": {},
   "outputs": [
    {
     "name": "stdout",
     "output_type": "stream",
     "text": [
      "['\\n', ' ', '.', '[', ']', 'ϣ', 'ϥ', 'ϩ', 'ϫ', 'ϭ', 'ϯ', 'ⲁ', 'ⲃ', 'ⲅ', 'ⲇ', 'ⲉ', 'ⲍ', 'ⲏ', 'ⲑ', 'ⲓ', 'ⲕ', 'ⲗ', 'ⲙ', 'ⲛ', 'ⲝ', 'ⲟ', 'ⲡ', 'ⲣ', 'ⲥ', 'ⲧ', 'ⲩ', 'ⲫ', 'ⲭ', 'ⲱ']\n"
     ]
    }
   ],
   "source": [
    "# wir extrahieren beispielhaft alle Symbole (Zeichen), die im \n",
    "# ersten Kapitel verwendet werden\n",
    "\n",
    "# die Funktion \"set()\" reduziert eine Liste auf die Menge der\n",
    "# einzigartigen Elemente, die in ihr enthalten sind (d.h. von\n",
    "# jedem Element genau eines).\n",
    "# ein \"set\" (Menge) ist auch ein Container (ähnlich wie die Liste),\n",
    "# allerdings haben die in ihm enthaltenen Elemente keine \n",
    "# vorgeschriebene Ordnung\n",
    "chapter01_symbols = set(text_copt)\n",
    "\n",
    "# verwandle das set wieder in eine Liste, um die Elemente\n",
    "# sortieren zu können\n",
    "chapter01_symbols = list(chapter01_symbols)\n",
    "\n",
    "# sortiere die Elemente\n",
    "chapter01_symbols.sort()\n",
    "\n",
    "# zeige die Liste aller im koptischen ersten Kapitel verwendeten\n",
    "# symbole an\n",
    "print(chapter01_symbols)"
   ]
  },
  {
   "cell_type": "markdown",
   "metadata": {},
   "source": [
    "**B.** Welche Symbole gehören zum koptischen Alphabet und welche nicht? Kommen alle Symbole des koptischen Alphabets im ersten Kapitel vor? Welche Bedeutung haben die Symbole, die nicht zum koptischen Alphabet gehören? \n",
    "\n",
    "Nun wollen wir uns die Unicode-Kodierung der Symbole etwas genauer ansehen:"
   ]
  },
  {
   "cell_type": "code",
   "execution_count": 13,
   "metadata": {},
   "outputs": [
    {
     "name": "stdout",
     "output_type": "stream",
     "text": [
      "Unicode-Kodierung:\n",
      "b'\\\\u03e3'\n",
      "Koptisches Symbol:\n",
      "ϣ\n"
     ]
    }
   ],
   "source": [
    "# zeige den Unicode-code des ersten koptischen Zeichens an\n",
    "print('Unicode-Kodierung:')\n",
    "print(chapter01_symbols[5].encode('raw_unicode_escape'))\n",
    "\n",
    "# umgekehrt können wir auch koptische Zeichen ausgeben, indem\n",
    "# wir der print()-Funktion Unicode übergeben:\n",
    "print('Koptisches Symbol:')\n",
    "print('\\u03e3')"
   ]
  },
  {
   "cell_type": "markdown",
   "metadata": {},
   "source": [
    "**C.** Strings stellen die Funktionen ```string.upper()``` und ```string.lower()``` zur Verfügung, mit denen der String in Groß- bzw. Kleinschreibung überführt werden kann. Teste die Funktion mit einem String, der deinen Namen enthält. Funktioniert das auch mit koptischen Zeichen? Und wie verändert sich die Unicode-Kodierung dabei?  \n",
    "**D. (Optional)** Erstelle ein DataFrame, indem die koptischen Symbole und ihre jeweilige Unicode-Kodierung aufgelistet sind. Lass dir für ein paar Symbole die Kodierung ausgeben."
   ]
  },
  {
   "cell_type": "markdown",
   "metadata": {},
   "source": [
    "[Anfang](#top)"
   ]
  },
  {
   "cell_type": "markdown",
   "metadata": {},
   "source": [
    "<a name=\"histogramme\"></a>3. Histogramme\n",
    "---\n",
    "Im folgenden Abschnitt werden wir damit beginnen, aus der Struktur der Texte gewonnene Informationen zu visualisieren. Eine sehr einfache Visualisierung ist das Histogramm, eine graphische Darstellung der Häufigkeit eines Merkmals. Zur Illustration erstellen wir eine kleine Visualisierung der Verteilung von Werten in einer Liste:"
   ]
  },
  {
   "cell_type": "code",
   "execution_count": 3,
   "metadata": {},
   "outputs": [
    {
     "data": {
      "image/png": "[encoded data removed]",
      "text/plain": [
       "<Figure size 432x288 with 1 Axes>"
      ]
     },
     "metadata": {},
     "output_type": "display_data"
    }
   ],
   "source": [
    "# eine Liste mit 30 Ganzzahlen, die z.B. das Alter von Personen in einer\n",
    "# Gruppe darstellen können\n",
    "alter = [37, 20, 84,  2, 11, 89, 52, 65, 90, 21, 30, 12, 17, 53, 62, 45, 37,\n",
    "        3,  6, 64, 85,  6, 95, 73, 68, 55, 86, 83, 91,  1]\n",
    "\n",
    "# für Visualisierungen benutzen wir die Blbiothek \"matplotlib.pyplot\"\n",
    "import matplotlib.pyplot as plt\n",
    "\n",
    "# Histogramme lassen sich einfach mit der Funktion plt.hist() erstellen\n",
    "plt.hist(alter);"
   ]
  },
  {
   "cell_type": "markdown",
   "metadata": {},
   "source": [
    "Visualisierungen sollten immer mit Achsenbeschriftungen versehen werden. Dafür verwenden wir die Funktionen ```plt.xlabel()``` und ```plt.ylabel```. Außerdem können wir der Abbildung mit ```plt.title()``` einen Titel geben. Mit verschiedenen optionalen Argumenten lässt sich das Verhalten von ```plt.hist()``` anpassen:\n",
    "* ```bins``` ändert die Anzahl der Bins\n",
    "* ```range``` ändert den dargestellten Bereich auf der x-Achse\n",
    "* ```rwidth``` ändert die dargestellte bin-Weite \n",
    "* ```color``` ändert die Farbe\n",
    "* ```alpha``` ändert den Alpha-Wert (Durchsichtigkeit) der dargestellten Balken.\n",
    "\n",
    "Plot-Funktionen haben oftmals sehr viele optionale Argumente (auch \"keyword arguments\" genannt). Um herauszufinden, wass die jeweiligen Funktionen alles können, lohnt sich ein Blick in die [Dokumentation](https://matplotlib.org/api/_as_gen/matplotlib.pyplot.hist.html). Außerdem sollte jede Darstellung *immer* mit Achsenbeschriftungen und eventuell einem Titel versehen werden:"
   ]
  },
  {
   "cell_type": "code",
   "execution_count": 34,
   "metadata": {},
   "outputs": [
    {
     "data": {
      "text/plain": [
       "Text(0.5,1,'Verteilung des Alters')"
      ]
     },
     "execution_count": 34,
     "metadata": {},
     "output_type": "execute_result"
    },
    {
     "data": {
      "image/png": "[encoded data removed]",
      "text/plain": [
       "<Figure size 432x288 with 1 Axes>"
      ]
     },
     "metadata": {},
     "output_type": "display_data"
    }
   ],
   "source": [
    "plt.hist(alter, color='red', rwidth=0.8, range=[0,100], bins=10, label='alter')\n",
    "plt.xlabel('Alter')\n",
    "plt.ylabel('Anzahl')\n",
    "plt.title('Verteilung des Alters')"
   ]
  },
  {
   "cell_type": "markdown",
   "metadata": {},
   "source": [
    "**A.** Erstelle ein Histogramm der Längen der Kapitel im koptischen Markus-Evangelium.  \n",
    "**B.** Mache dich mit den unterschiedlichen Argumenten der Funktion ```plt.hist()``` vertraut, indem du verschiedene Werte und Kombinationen für die Daten ausprobierst. Finde Werte, die die Daten deiner Meinung nach gut und verständlich darstellen. Worauf kommt es dabei an? Versieh die Darstellung mit passenden Beschriftungen.  \n",
    "**C.** Insbesondere das Argument ```bins``` verändert die Darstellung des Histogrammes sehr stark. Was kann schiefgehen, wenn ```bins``` zu niedrig oder zu hoch gewählt wird? Was ist eine gute Wahl für einen Datensatz?  \n",
    "**D.** Stelle die Kapitellänge des koptischen und des Englischen Markus-Evangeliums im selben Histogram dar. <font color='green'>**HINWEIS:** Du kannst einfach in der selben Code-Zelle zwei mal hintereinander die Funktion ```plt.hist()``` (natürlich mit unterschiedlichen Daten) aufrufen, um die Daten übereinandergelegt darzustellen. Du kannst mit der Funktion ```plt.legend()``` eine Legende zur Abbildung hinzufügen. Damit das funktioniert, musst du den einzelen plot-Befehlen vorher ein entsprechendes ```label``` Argument mitgeben.</font> Was fällt dir auf? Worauf musst du achten, damit die beiden Histogramme vergleichbar sind?  \n",
    "**E. (Optional)** Was hat es mit den beiden keyword arguments ```density``` und ```cumulative``` auf sich? Wie verändert sich das Histogram und wie kann die Darstellung dann interpretiert werden?"
   ]
  },
  {
   "cell_type": "markdown",
   "metadata": {},
   "source": [
    "[Anfang](#top)"
   ]
  }
 ],
 "metadata": {
  "kernelspec": {
   "display_name": "Python 3",
   "language": "python",
   "name": "python3"
  },
  "language_info": {
   "codemirror_mode": {
    "name": "ipython",
    "version": 3
   },
   "file_extension": ".py",
   "mimetype": "text/x-python",
   "name": "python",
   "nbconvert_exporter": "python",
   "pygments_lexer": "ipython3",
   "version": "3.5.2"
  }
 },
 "nbformat": 4,
 "nbformat_minor": 2
}
