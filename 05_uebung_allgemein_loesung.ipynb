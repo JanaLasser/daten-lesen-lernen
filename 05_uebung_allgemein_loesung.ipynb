{
 "cells": [
  {
   "cell_type": "markdown",
   "metadata": {},
   "source": [
    "_Lizenz: Das folgende Lehrmaterial kann unter einer [CC-BY-SA 4.0](https://creativecommons.org/licenses/by/4.0/legalcode) Lizenz frei verwendet, verbreitet und modifiziert werden._   \n",
    " _Authoren: Jana Lasser (jana.lasser@ds.mpg.de)_  \n",
    " _Das Lehrmaterial wurde im Zuge des Projektes \"Daten Lesen Lernen\", gefördert vom Stifterverband und der Heinz Nixdorf Stiftung erstellt._"
   ]
  },
  {
   "cell_type": "markdown",
   "metadata": {},
   "source": [
    "# Lösungen zu Übung 05 - Allgemein: Daten einlesen, bereinigen und mit Histogrammen visualisieren"
   ]
  },
  {
   "cell_type": "markdown",
   "metadata": {},
   "source": [
    "<a name=\"top\"></a>Inhalt\n",
    "---\n",
    "* [Daten beschaffen](#daten_beschaffen)\n",
    "* [Daten erkunden](#daten_erkunden)\n",
    "* [Daten bereinigen](#daten_bereinigen)\n",
    "* [Histogramme](#histogramme)"
   ]
  },
  {
   "cell_type": "markdown",
   "metadata": {},
   "source": [
    "<a name=\"daten_beschaffen\"></a>1. Daten beschaffen\n",
    "---\n",
    "**1.A** Datenquellen:\n",
    "* [\"normale\" Twitter-User](http://help.sentiment140.com/for-students/) Diese Daten wurden eigentlich für eine sog. \"sentiment Analyse\", also eine Analyse der Gefühlslage des Twitter-Nutzers gesammelt. Außerdem sind die Daten auch nicht Open Source. Deshalb stellen wir die Daten nicht selbst zur Verfügung sondern verlassen uns darauf, dass die Studierenden sie sich selbst herunterladen. Die Methode, die der Datensammlung zu Grunde liegt, wird in [dieser Publikation](https://cs.stanford.edu/people/alecmgo/papers/TwitterDistantSupervision09.pdf) beschrieben. \n",
    "* [Donald Trump](https://github.com/mkearney/trumptweets) zur Datenquelle der Trump-Tweets gibt es keine genauere Dokumentation. Das sollte uns das hellhörig werden lassen und darauf hinweisen, dass die Datenquelle nicht unbedingt vertrauenswürdig ist. Eine Alternative wäre, die entsprechenden Tweets selbst zu sammeln.\n",
    "* [russische Trolle](https://github.com/fivethirtyeight/russian-troll-tweets/) Eine sehr gute Beschreibung des Datensatzes sowie der Methoden die angewandt wurden, um die Trolle zu identifizieren gibt es auf dem [GitHub Profil](https://github.com/fivethirtyeight/russian-troll-tweets/) des Projektes. Zum besseren Verständnis der Bedeutung des Datensatzes bietet sich auch [dieser](https://fivethirtyeight.com/features/why-were-sharing-3-million-russian-troll-tweets/) Artikel an."
   ]
  },
  {
   "cell_type": "code",
   "execution_count": 2,
   "metadata": {},
   "outputs": [
    {
     "name": "stderr",
     "output_type": "stream",
     "text": [
      "/home/jlasser/virtualenvs/p3.5_venv/lib/python3.5/site-packages/IPython/core/interactiveshell.py:2785: DtypeWarning: Columns (15,30,31,32,36,37,38,42,43,44,45,46,47,50,51,52,56,57,58,59,60,61,62,63,64,65,66,67) have mixed types. Specify dtype option on import or set low_memory=False.\n",
      "  interactivity=interactivity, compiler=compiler, result=result)\n"
     ]
    }
   ],
   "source": [
    "# 1.B\n",
    "# benötigte Bibliotheken\n",
    "import pandas as pd \n",
    "import requests \n",
    "import io\n",
    "\n",
    "# unter diesem Pfad ist der Datensatz mit den \"normalen\" Tweets gespeichert\n",
    "pfad_normal = 'daten/trainingandtestdata/training.1600000.processed.noemoticon.csv'\n",
    "tweets_normal_raw = pd.read_csv(pfad_normal, \\\n",
    "                            names=['sentiment','ID','Date','Query','User','Tweet'],\\\n",
    "                            encoding=\"ISO-8859-1\")\n",
    "\n",
    "# die URL unter der der Trump-Tweet-Datensatz zu finden ist\n",
    "url_trump = \"https://github.com/mkearney/trumptweets/raw/master/data/trumptweets-1515775693.tweets.csv\"\n",
    "\n",
    "# lies die Information von der in der URL hinterlegten Website aus\n",
    "# und speichere sie in einem DataFrame. \n",
    "# Diesmal geben wir das encoding schon an dieser Stelle an\n",
    "antwort_trump = requests.get(url_trump).content\n",
    "inhalt_trump = io.StringIO(antwort_trump.decode('ISO-8859-1'))\n",
    "tweets_trump_raw = pd.read_csv(inhalt_trump)\n",
    "\n",
    "# die URL unter der der Troll-Tweet-Datensatz zu finden ist\n",
    "url_troll = 'https://github.com/fivethirtyeight/russian-troll-tweets/raw/master/IRAhandle_tweets_1.csv'\n",
    "\n",
    "# lies die Information von der in der URL hinterlegten Website aus\n",
    "# und speichere sie in einem DataFrame. \n",
    "# Diesmal geben wir das encoding schon an dieser Stelle an\n",
    "antwort_troll = requests.get(url_troll).content\n",
    "inhalt_troll = io.StringIO(antwort_troll.decode('ISO-8859-1'))\n",
    "tweets_troll_raw = pd.read_csv(inhalt_troll)"
   ]
  },
  {
   "cell_type": "markdown",
   "metadata": {},
   "source": [
    "[Anfang](#top)"
   ]
  },
  {
   "cell_type": "markdown",
   "metadata": {},
   "source": [
    "<a name=\"daten_beschaffen\"></a>2. Daten erkunden\n",
    "---"
   ]
  },
  {
   "cell_type": "code",
   "execution_count": 3,
   "metadata": {},
   "outputs": [
    {
     "name": "stdout",
     "output_type": "stream",
     "text": [
      "Spaltennamen der normalen Tweets:\n",
      "Index(['sentiment', 'ID', 'Date', 'Query', 'User', 'Tweet'], dtype='object')\n",
      "\n",
      "Spaltennamen der Trump Tweets:\n",
      "Index(['status_id', 'created_at', 'user_id', 'screen_name', 'text', 'source',\n",
      "       'display_text_width', 'reply_to_status_id', 'reply_to_user_id',\n",
      "       'reply_to_screen_name', 'is_quote', 'is_retweet', 'favorite_count',\n",
      "       'retweet_count', 'hashtags', 'symbols', 'urls_url', 'urls_t.co',\n",
      "       'urls_expanded_url', 'media_url', 'media_t.co', 'media_expanded_url',\n",
      "       'media_type', 'ext_media_url', 'ext_media_t.co',\n",
      "       'ext_media_expanded_url', 'ext_media_type', 'mentions_user_id',\n",
      "       'mentions_screen_name', 'lang', 'quoted_status_id', 'quoted_text',\n",
      "       'quoted_created_at', 'quoted_source', 'quoted_favorite_count',\n",
      "       'quoted_retweet_count', 'quoted_user_id', 'quoted_screen_name',\n",
      "       'quoted_name', 'quoted_followers_count', 'quoted_friends_count',\n",
      "       'quoted_statuses_count', 'quoted_location', 'quoted_description',\n",
      "       'quoted_verified', 'retweet_status_id', 'retweet_text',\n",
      "       'retweet_created_at', 'retweet_source', 'retweet_favorite_count',\n",
      "       'retweet_user_id', 'retweet_screen_name', 'retweet_name',\n",
      "       'retweet_followers_count', 'retweet_friends_count',\n",
      "       'retweet_statuses_count', 'retweet_location', 'retweet_description',\n",
      "       'retweet_verified', 'place_url', 'place_name', 'place_full_name',\n",
      "       'place_type', 'country', 'country_code', 'geo_coords', 'coords_coords',\n",
      "       'bbox_coords'],\n",
      "      dtype='object')\n",
      "\n",
      "Spaltennamen der Troll Tweets:\n",
      "Index(['external_author_id', 'author', 'content', 'region', 'language',\n",
      "       'publish_date', 'harvested_date', 'following', 'followers', 'updates',\n",
      "       'post_type', 'account_type', 'retweet', 'account_category',\n",
      "       'new_june_2018', 'alt_external_id', 'tweet_id', 'article_url',\n",
      "       'tco1_step1', 'tco2_step1', 'tco3_step1'],\n",
      "      dtype='object')\n"
     ]
    }
   ],
   "source": [
    "# 2.A\n",
    "print('Spaltennamen der normalen Tweets:')\n",
    "print(tweets_normal_raw.columns)\n",
    "print()\n",
    "\n",
    "print('Spaltennamen der Trump Tweets:')\n",
    "print(tweets_trump_raw.columns)\n",
    "print()\n",
    "\n",
    "print('Spaltennamen der Troll Tweets:')\n",
    "print(tweets_troll_raw.columns)"
   ]
  },
  {
   "cell_type": "markdown",
   "metadata": {},
   "source": [
    "**Information in den Spalten für den normalen Tweet-Datensatz** (aus der [Dokumentation](http://help.sentiment140.com/for-students/) des Datensatzes):\n",
    "\n",
    "_The data is a CSV with emoticons removed. Data file format has 6 fields:_\n",
    "* _0 - the polarity of the tweet (0 = negative, 2 = neutral, 4 = positive)_\n",
    "* _1 - the id of the tweet (2087)_\n",
    "* _2 - the date of the tweet (Sat May 16 23:58:44 UTC 2009)_\n",
    "* *3 - the query (lyx). If there is no query, then this value is NO_QUERY.*\n",
    "* _4 - the user that tweeted (robotickilldozr)_\n",
    "* _5 - the text of the tweet (Lyx is cool)_"
   ]
  },
  {
   "cell_type": "markdown",
   "metadata": {},
   "source": [
    "**Information in den Spalten für den Troll-Tweet Datensatz** (aus der [Dokumentation](https://github.com/fivethirtyeight/russian-troll-tweets/blob/master/README.md) des Datensatzes):\n",
    "\n",
    "Header | Definition\n",
    "---|---------\n",
    "`external_author_id` | An author account ID from Twitter \n",
    "`author` | The handle sending the tweet\n",
    "`content` | The text of the tweet\n",
    "`region` | A region classification, as [determined by Social Studio](https://help.salesforce.com/articleView?id=000199367&type=1)\n",
    "`language` | The language of the tweet\n",
    "`publish_date` | The date and time the tweet was sent\n",
    "`harvested_date` | The date and time the tweet was collected by Social Studio\n",
    "`following` | The number of accounts the handle was following at the time of the tweet\n",
    "`followers` | The number of followers the handle had at the time of the tweet\n",
    "`updates` | The number of “update actions” on the account that authored the tweet, including tweets, retweets and likes\n",
    "`post_type` | Indicates if the tweet was a retweet or a quote-tweet\n",
    "`account_type` | Specific account theme, as coded by Linvill and Warren\n",
    "`retweet` | A binary indicator of whether or not the tweet is a retweet\n",
    "`account_category` | General account theme, as coded by Linvill and Warren\n",
    "`new_june_2018` | A binary indicator of whether the handle was newly listed in June 2018\n",
    "`alt_external_id` | Reconstruction of author account ID from Twitter, derived from `article_url` variable and the first list provided to Congress\n",
    "`tweet_id` | Unique id assigned by twitter to each status update, derived from `article_url`\n",
    "`article_url` | Link to original tweet. Now redirects to \"Account Suspended\" page\n",
    "`tco1_step1` | First redirect for the first http(s)://t.co/ link in a tweet, if it exists\n",
    "`tco2_step1` | First redirect for the second http(s)://t.co/ link in a tweet, if it exists\n",
    "`tco3_step1` | First redirect for the third http(s)://t.co/ link in a tweet, if it exists"
   ]
  },
  {
   "cell_type": "markdown",
   "metadata": {},
   "source": [
    "Zum Trump-Datensatz ist keine explizite Dokumentation des Spalteninhalts vorhanden. Trotzdem sind die meisten Spalten-Namen so deskriptiv gestaltet, dass wir erraten können, welche Information sie enthalten und sie entsprechend verwenden können."
   ]
  },
  {
   "cell_type": "code",
   "execution_count": 4,
   "metadata": {},
   "outputs": [
    {
     "name": "stdout",
     "output_type": "stream",
     "text": [
      "Ein zufälliger normaler User tweetet:\n",
      "spring break in plain city... it's snowing \n",
      "\n",
      "Donald Trump tweetet:\n",
      "\"...these days...we could all use a little of the power of Trumpative thinking.\" âBarnesandNoble.com http://tinyurl.com/pqpfvm\n",
      "\n",
      "Ein zufälliger russischer Troll tweetet:\n",
      "After the 'genocide' remark from San Juan Mayor the narrative has changed though. @CNN fixes its reporting constantly.\n"
     ]
    }
   ],
   "source": [
    "# 2.B\n",
    "test_index = 10\n",
    "print('Ein zufälliger normaler User tweetet:')\n",
    "print(tweets_normal_raw['Tweet'][test_index])\n",
    "print()\n",
    "print('Donald Trump tweetet:')\n",
    "print(tweets_trump_raw['text'][test_index])\n",
    "print()\n",
    "print('Ein zufälliger russischer Troll tweetet:')\n",
    "print(tweets_troll_raw['content'][test_index])"
   ]
  },
  {
   "cell_type": "code",
   "execution_count": 5,
   "metadata": {},
   "outputs": [
    {
     "name": "stdout",
     "output_type": "stream",
     "text": [
      "Anzahl der normalen User: 659775\n",
      "Anzahl der Tweets im normalen Datensatz: 1600000\n",
      "\n",
      "Anzahl der User im Trum-Datensatz: 5\n",
      "Anzahl der Tweets im Trump-Datensatz: 32826\n"
     ]
    }
   ],
   "source": [
    "# 2.C\n",
    "# normale User\n",
    "number_of_tweets_normal = len(tweets_normal_raw)\n",
    "unique_users_normal = len(tweets_normal_raw.User.unique())\n",
    "print('Anzahl der normalen User: {}'.format(unique_users_normal))\n",
    "print('Anzahl der Tweets im normalen Datensatz: {}'.format(number_of_tweets_normal))\n",
    "print()\n",
    "\n",
    "# Trump\n",
    "number_of_tweets_trump = len(tweets_trump_raw)\n",
    "unique_users_trump = len(tweets_trump_raw.screen_name.unique())\n",
    "print('Anzahl der User im Trum-Datensatz: {}'.format(unique_users_trump))\n",
    "print('Anzahl der Tweets im Trump-Datensatz: {}'.format(number_of_tweets_trump))"
   ]
  },
  {
   "cell_type": "code",
   "execution_count": 6,
   "metadata": {},
   "outputs": [
    {
     "name": "stdout",
     "output_type": "stream",
     "text": [
      "['realDonaldTrump' 'TeamTrump' 'EricTrump' 'DanScavino' 'DonaldJTrumpJr']\n"
     ]
    }
   ],
   "source": [
    "# man würde bei einem Datensatz von Tweets von Donald Trump jetzt erst\n",
    "# einmal erwarten, dass nur ein User (nämlich Trump) im Datensatz enthalten ist.\n",
    "# Deswegen verwundert es etwas, dass es 5 verschiedene User sind. Welche\n",
    "# User sind denn das?\n",
    "print(tweets_trump_raw.screen_name.unique())"
   ]
  },
  {
   "cell_type": "code",
   "execution_count": 7,
   "metadata": {},
   "outputs": [
    {
     "name": "stdout",
     "output_type": "stream",
     "text": [
      "Anzahl der Tweets / User für die normalen Tweets: 2.43\n",
      "Anzahl der Tweets / User für die Trolle: 818.43\n"
     ]
    }
   ],
   "source": [
    "# 2.D\n",
    "# Trolle\n",
    "number_of_tweets_troll = len(tweets_troll_raw)\n",
    "unique_users_troll = len(tweets_troll_raw.author.unique())\n",
    "\n",
    "# normale user haben wir schon in 2.C berechnet\n",
    "\n",
    "print('Anzahl der Tweets / User für die normalen Tweets: {:1.2f}'.format(number_of_tweets_normal / unique_users_normal))\n",
    "print('Anzahl der Tweets / User für die Trolle: {:1.2f}'.format(number_of_tweets_troll / unique_users_troll))"
   ]
  },
  {
   "cell_type": "code",
   "execution_count": 8,
   "metadata": {},
   "outputs": [
    {
     "name": "stdout",
     "output_type": "stream",
     "text": [
      "Der aktivste Troll-Account im Datensatz ist:\n",
      "0    AMELIEBALDWIN\n",
      "dtype: object\n",
      "\n",
      "Der aktivste Troll Account hat 35261 Tweets abgesetzt.\n",
      "Das sind 14.46% der Tweets im ganzen Datensatz.\n"
     ]
    }
   ],
   "source": [
    "# 2.E\n",
    "# der Modus gibt Auskunft über den Eintrag, der\n",
    "# am häufigsten vorkommt\n",
    "most_active_user = tweets_troll_raw['author'].mode()\n",
    "print('Der aktivste Troll-Account im Datensatz ist:')\n",
    "print(most_active_user)\n",
    "print()\n",
    "\n",
    "# filtere das DataFrame nach Einträgen, die vom User\n",
    "# \"AMELIEBALDWIN\" stammen\n",
    "filter_most_active = tweets_troll_raw['author'] == 'AMELIEBALDWIN'\n",
    "number_most_active = filter_most_active.sum()\n",
    "print('Der aktivste Troll Account hat {} Tweets abgesetzt.'.format(number_most_active))\n",
    "print('Das sind {:1.2f}% der Tweets im ganzen Datensatz.'\\\n",
    "      .format(number_most_active / len(tweets_troll_raw) * 100))"
   ]
  },
  {
   "cell_type": "code",
   "execution_count": 9,
   "metadata": {},
   "outputs": [
    {
     "name": "stdout",
     "output_type": "stream",
     "text": [
      "['English' 'Russian' 'Serbian' 'Ukrainian' 'Tagalog (Filipino)' 'Albanian'\n",
      " 'Italian' 'Romanian' 'Spanish' 'Catalan' 'German' 'Estonian' 'French'\n",
      " 'Norwegian' 'Vietnamese' 'Dutch' 'Arabic' 'Uzbek' 'Bulgarian'\n",
      " 'Macedonian' 'Farsi (Persian)' 'Turkish' 'LANGUAGE UNDEFINED' 'Czech'\n",
      " 'Somali' 'Lithuanian' 'Croatian' 'Slovak' 'Icelandic' 'Slovenian'\n",
      " 'Japanese' 'Indonesian' 'Pushto' 'Hungarian' 'Finnish' 'Latvian'\n",
      " 'Portuguese' 'Danish' 'Swedish' 'Malay' 'Polish' 'Korean' 'Hebrew' 'Urdu'\n",
      " 'Kurdish' 'Hindi' 'Greek' 'Simplified Chinese' 'Thai']\n",
      "\n",
      "Der Datensatz enthält Tweets in 48 verschiedenen Sprachen.\n"
     ]
    }
   ],
   "source": [
    "# 2.F\n",
    "# die verschiedenen Einträge der Spalte \"language\"\n",
    "sprachen = tweets_troll_raw.language.unique()\n",
    "print(sprachen)\n",
    "print()\n",
    "\n",
    "# ziehe 1 ab für 'LANGUAGE UNDEFINED'\n",
    "print('Der Datensatz enthält Tweets in {} verschiedenen Sprachen.'\\\n",
    "     .format(len(sprachen) - 1))"
   ]
  },
  {
   "cell_type": "code",
   "execution_count": 10,
   "metadata": {},
   "outputs": [],
   "source": [
    "# 2.F Fortsetzung\n",
    "\n",
    "# erstelle ein Dictionary mit einem Eintrag für jede Sprache\n",
    "# und einem Counter (der zu Anfang gleich null ist).\n",
    "sprachen = {s:0 for s in sprachen}\n",
    "\n",
    "# Im Folgenden iterieren wir über jeden Tweet im Datensatz \n",
    "# und erhöhen den Counter für die entsprechende Sprache um 1\n",
    "for index, row in tweets_troll_raw.iterrows():\n",
    "    # finde die Tweet-Sprache heraus\n",
    "    tweet_sprache = row['language']\n",
    "    # erhöhe den Counter der Sprache im Dictionary um 1\n",
    "    sprachen[tweet_sprache] = sprachen[tweet_sprache] + 1 "
   ]
  },
  {
   "cell_type": "markdown",
   "metadata": {},
   "source": [
    "[Anfang](#top)"
   ]
  },
  {
   "cell_type": "markdown",
   "metadata": {},
   "source": [
    "<a name=\"daten_bereinigen\"></a>3. Daten bereinigen\n",
    "---"
   ]
  },
  {
   "cell_type": "code",
   "execution_count": 14,
   "metadata": {},
   "outputs": [],
   "source": [
    "# 3.A\n",
    "# bereinige die Trump Tweets (Wiederholung aus Übungsblatt)\n",
    "mask_realDonald = tweets_trump_raw['screen_name'] == 'realDonaldTrump'\n",
    "tweets_trump_filtered = tweets_trump_raw[mask_realDonald]\n",
    "tweets_trump = pd.DataFrame({'Date':tweets_trump_filtered['created_at'],\\\n",
    "                             'User':tweets_trump_filtered['screen_name'],\\\n",
    "                             'Tweet':tweets_trump_filtered['text']})\n",
    "\n",
    "# normale user\n",
    "tweets_normal = pd.DataFrame({'Date':tweets_normal_raw['Date'],\\\n",
    "                             'User':tweets_normal_raw['User'],\\\n",
    "                             'Tweet':tweets_normal_raw['Tweet']})"
   ]
  },
  {
   "cell_type": "code",
   "execution_count": 15,
   "metadata": {},
   "outputs": [
    {
     "data": {
      "text/html": [
       "<div>\n",
       "<style scoped>\n",
       "    .dataframe tbody tr th:only-of-type {\n",
       "        vertical-align: middle;\n",
       "    }\n",
       "\n",
       "    .dataframe tbody tr th {\n",
       "        vertical-align: top;\n",
       "    }\n",
       "\n",
       "    .dataframe thead th {\n",
       "        text-align: right;\n",
       "    }\n",
       "</style>\n",
       "<table border=\"1\" class=\"dataframe\">\n",
       "  <thead>\n",
       "    <tr style=\"text-align: right;\">\n",
       "      <th></th>\n",
       "      <th>Date</th>\n",
       "      <th>Follower</th>\n",
       "      <th>Following</th>\n",
       "      <th>Language</th>\n",
       "      <th>Tweet</th>\n",
       "      <th>User</th>\n",
       "    </tr>\n",
       "  </thead>\n",
       "  <tbody>\n",
       "    <tr>\n",
       "      <th>0</th>\n",
       "      <td>10/1/2017 19:58</td>\n",
       "      <td>9636</td>\n",
       "      <td>1052</td>\n",
       "      <td>English</td>\n",
       "      <td>\"We have a sitting Democrat US Senator on tria...</td>\n",
       "      <td>10_GOP</td>\n",
       "    </tr>\n",
       "    <tr>\n",
       "      <th>1</th>\n",
       "      <td>10/1/2017 22:43</td>\n",
       "      <td>9637</td>\n",
       "      <td>1054</td>\n",
       "      <td>English</td>\n",
       "      <td>Marshawn Lynch arrives to game in anti-Trump s...</td>\n",
       "      <td>10_GOP</td>\n",
       "    </tr>\n",
       "    <tr>\n",
       "      <th>2</th>\n",
       "      <td>10/1/2017 22:50</td>\n",
       "      <td>9637</td>\n",
       "      <td>1054</td>\n",
       "      <td>English</td>\n",
       "      <td>Daughter of fallen Navy Sailor delivers powerf...</td>\n",
       "      <td>10_GOP</td>\n",
       "    </tr>\n",
       "    <tr>\n",
       "      <th>3</th>\n",
       "      <td>10/1/2017 23:52</td>\n",
       "      <td>9642</td>\n",
       "      <td>1062</td>\n",
       "      <td>English</td>\n",
       "      <td>JUST IN: President Trump dedicates Presidents ...</td>\n",
       "      <td>10_GOP</td>\n",
       "    </tr>\n",
       "    <tr>\n",
       "      <th>4</th>\n",
       "      <td>10/1/2017 2:13</td>\n",
       "      <td>9645</td>\n",
       "      <td>1050</td>\n",
       "      <td>English</td>\n",
       "      <td>19,000 RESPECTING our National Anthem! #StandF...</td>\n",
       "      <td>10_GOP</td>\n",
       "    </tr>\n",
       "  </tbody>\n",
       "</table>\n",
       "</div>"
      ],
      "text/plain": [
       "              Date  Follower  Following Language  \\\n",
       "0  10/1/2017 19:58      9636       1052  English   \n",
       "1  10/1/2017 22:43      9637       1054  English   \n",
       "2  10/1/2017 22:50      9637       1054  English   \n",
       "3  10/1/2017 23:52      9642       1062  English   \n",
       "4   10/1/2017 2:13      9645       1050  English   \n",
       "\n",
       "                                               Tweet    User  \n",
       "0  \"We have a sitting Democrat US Senator on tria...  10_GOP  \n",
       "1  Marshawn Lynch arrives to game in anti-Trump s...  10_GOP  \n",
       "2  Daughter of fallen Navy Sailor delivers powerf...  10_GOP  \n",
       "3  JUST IN: President Trump dedicates Presidents ...  10_GOP  \n",
       "4  19,000 RESPECTING our National Anthem! #StandF...  10_GOP  "
      ]
     },
     "execution_count": 15,
     "metadata": {},
     "output_type": "execute_result"
    }
   ],
   "source": [
    "# 3.B\n",
    "# Trolle\n",
    "tweets_troll = pd.DataFrame({'Date':tweets_troll_raw['publish_date'],\\\n",
    "                             'User':tweets_troll_raw['author'],\\\n",
    "                             'Tweet':tweets_troll_raw['content'],\\\n",
    "                             'Language':tweets_troll_raw['language'],\\\n",
    "                             'Follower':tweets_troll_raw['followers'],\\\n",
    "                             'Following':tweets_troll_raw['following']})\n",
    "tweets_troll.head()"
   ]
  },
  {
   "cell_type": "code",
   "execution_count": 28,
   "metadata": {},
   "outputs": [
    {
     "name": "stdout",
     "output_type": "stream",
     "text": [
      "Der 1. Datensatzteil beinhaltet 243891 Tweets.\n",
      "Der 2. Datensatzteil beinhaltet 243891 Tweets.\n",
      "Der 3. Datensatzteil beinhaltet 243891 Tweets.\n",
      "Der 4. Datensatzteil beinhaltet 243891 Tweets.\n",
      "Der 5. Datensatzteil beinhaltet 243891 Tweets.\n",
      "Der 6. Datensatzteil beinhaltet 243891 Tweets.\n",
      "Der 7. Datensatzteil beinhaltet 243891 Tweets.\n",
      "Der 8. Datensatzteil beinhaltet 243891 Tweets.\n",
      "Der 9. Datensatzteil beinhaltet 243891 Tweets.\n",
      "Der 10. Datensatzteil beinhaltet 243891 Tweets.\n",
      "Der 11. Datensatzteil beinhaltet 243891 Tweets.\n",
      "Der 12. Datensatzteil beinhaltet 243891 Tweets.\n",
      "Der 13. Datensatzteil beinhaltet 243891 Tweets.\n"
     ]
    }
   ],
   "source": [
    "# 3.C\n",
    "\n",
    "# url der Troll tweets, diesmal mit einem Platzhalter \"{}\" für die Zahl\n",
    "url_troll = 'https://github.com/fivethirtyeight/russian-troll-tweets/raw/master/IRAhandle_tweets_{}.csv'\n",
    "# Liste, in der wir alle heruntergeladenen Troll-Tweets speichern\n",
    "all_troll_tweets_raw = []\n",
    "\n",
    "# iteriere über die Zahlen 1 bis 13, um alle 13 Teile des Datensatzes herunterzuladen\n",
    "for i in range(1, 14):\n",
    "    url_troll = url_troll.format(i)\n",
    "    antwort_troll = requests.get(url_troll).content\n",
    "    inhalt_troll = io.StringIO(antwort_troll.decode('ISO-8859-1'))\n",
    "    tweets = pd.read_csv(inhalt_troll)\n",
    "    # füge den Datensatz-Teil der Liste hinzu\n",
    "    all_troll_tweets_raw.append(tweets)\n",
    "    print('Der {}. Datensatzteil beinhaltet {} Tweets.'.format(i, len(tweets)))\n",
    "    \n",
    "# Die Tweets liegen alphabetisch sortiert nach User-name vor. \n",
    "# Alle Teile des Datensatzes beinhalten genau 243891 Tweets "
   ]
  },
  {
   "cell_type": "code",
   "execution_count": 29,
   "metadata": {},
   "outputs": [],
   "source": [
    "# erstelle aus den Teilen ein einziges DataFrame\n",
    "all_troll_tweets_raw = pd.concat(all_troll_tweets_raw)"
   ]
  },
  {
   "cell_type": "code",
   "execution_count": 32,
   "metadata": {},
   "outputs": [
    {
     "name": "stdout",
     "output_type": "stream",
     "text": [
      "Der gesamte Datensatz beinhaltet 3170583 Tweets.\n"
     ]
    },
    {
     "data": {
      "text/html": [
       "<div>\n",
       "<style scoped>\n",
       "    .dataframe tbody tr th:only-of-type {\n",
       "        vertical-align: middle;\n",
       "    }\n",
       "\n",
       "    .dataframe tbody tr th {\n",
       "        vertical-align: top;\n",
       "    }\n",
       "\n",
       "    .dataframe thead th {\n",
       "        text-align: right;\n",
       "    }\n",
       "</style>\n",
       "<table border=\"1\" class=\"dataframe\">\n",
       "  <thead>\n",
       "    <tr style=\"text-align: right;\">\n",
       "      <th></th>\n",
       "      <th>Date</th>\n",
       "      <th>Follower</th>\n",
       "      <th>Following</th>\n",
       "      <th>Language</th>\n",
       "      <th>Tweet</th>\n",
       "      <th>User</th>\n",
       "    </tr>\n",
       "  </thead>\n",
       "  <tbody>\n",
       "    <tr>\n",
       "      <th>0</th>\n",
       "      <td>10/1/2017 19:58</td>\n",
       "      <td>9636</td>\n",
       "      <td>1052</td>\n",
       "      <td>English</td>\n",
       "      <td>\"We have a sitting Democrat US Senator on tria...</td>\n",
       "      <td>10_GOP</td>\n",
       "    </tr>\n",
       "    <tr>\n",
       "      <th>1</th>\n",
       "      <td>10/1/2017 22:43</td>\n",
       "      <td>9637</td>\n",
       "      <td>1054</td>\n",
       "      <td>English</td>\n",
       "      <td>Marshawn Lynch arrives to game in anti-Trump s...</td>\n",
       "      <td>10_GOP</td>\n",
       "    </tr>\n",
       "    <tr>\n",
       "      <th>2</th>\n",
       "      <td>10/1/2017 22:50</td>\n",
       "      <td>9637</td>\n",
       "      <td>1054</td>\n",
       "      <td>English</td>\n",
       "      <td>Daughter of fallen Navy Sailor delivers powerf...</td>\n",
       "      <td>10_GOP</td>\n",
       "    </tr>\n",
       "    <tr>\n",
       "      <th>3</th>\n",
       "      <td>10/1/2017 23:52</td>\n",
       "      <td>9642</td>\n",
       "      <td>1062</td>\n",
       "      <td>English</td>\n",
       "      <td>JUST IN: President Trump dedicates Presidents ...</td>\n",
       "      <td>10_GOP</td>\n",
       "    </tr>\n",
       "    <tr>\n",
       "      <th>4</th>\n",
       "      <td>10/1/2017 2:13</td>\n",
       "      <td>9645</td>\n",
       "      <td>1050</td>\n",
       "      <td>English</td>\n",
       "      <td>19,000 RESPECTING our National Anthem! #StandF...</td>\n",
       "      <td>10_GOP</td>\n",
       "    </tr>\n",
       "  </tbody>\n",
       "</table>\n",
       "</div>"
      ],
      "text/plain": [
       "              Date  Follower  Following Language  \\\n",
       "0  10/1/2017 19:58      9636       1052  English   \n",
       "1  10/1/2017 22:43      9637       1054  English   \n",
       "2  10/1/2017 22:50      9637       1054  English   \n",
       "3  10/1/2017 23:52      9642       1062  English   \n",
       "4   10/1/2017 2:13      9645       1050  English   \n",
       "\n",
       "                                               Tweet    User  \n",
       "0  \"We have a sitting Democrat US Senator on tria...  10_GOP  \n",
       "1  Marshawn Lynch arrives to game in anti-Trump s...  10_GOP  \n",
       "2  Daughter of fallen Navy Sailor delivers powerf...  10_GOP  \n",
       "3  JUST IN: President Trump dedicates Presidents ...  10_GOP  \n",
       "4  19,000 RESPECTING our National Anthem! #StandF...  10_GOP  "
      ]
     },
     "execution_count": 32,
     "metadata": {},
     "output_type": "execute_result"
    }
   ],
   "source": [
    "# bereinige das DataFrame\n",
    "tweets_troll_all = pd.DataFrame({'Date':all_troll_tweets_raw['publish_date'],\\\n",
    "                             'User':all_troll_tweets_raw['author'],\\\n",
    "                             'Tweet':all_troll_tweets_raw['content'],\\\n",
    "                             'Language':all_troll_tweets_raw['language'],\\\n",
    "                             'Follower':all_troll_tweets_raw['followers'],\\\n",
    "                             'Following':all_troll_tweets_raw['following']})\n",
    "\n",
    "print('Der gesamte Datensatz beinhaltet {} Tweets.'.format(len(tweets_troll_all)))\n",
    "tweets_troll_all.head()"
   ]
  },
  {
   "cell_type": "code",
   "execution_count": 88,
   "metadata": {},
   "outputs": [],
   "source": [
    "# 3.D\n",
    "# importiere die Bibliothek datetime\n",
    "import datetime\n",
    "\n",
    "# definiere die Funktion \"clean_date\", die als Input\n",
    "# einen String bekommt, der eine Datums- und Zeitangabe\n",
    "# enthält, sowie den typ (trump, normal, troll) des Inputs,\n",
    "# um den String entsprechend zu formatieren\n",
    "def clean_date(date_time_raw, typ):\n",
    "    \n",
    "    # dictionary in dem jeder Monatsabkürzung eine Ganzzahl\n",
    "    # zugewiesen wird (im normalen Tweet Datensatz liegen die\n",
    "    # Monatsangaben als String vor)\n",
    "    month_dict = {'Jan':1, 'Feb':2, 'Mar':3, 'Apr':4,\\\n",
    "                 'May':5, 'Jun':6, 'Jul':7, 'Aug':8,\\\n",
    "                 'Sep':9, 'Oct':10, 'Nov':11, 'Dec':12}\n",
    "    \n",
    "    # überprüfe den Typ der Eingabe\n",
    "    # Timestamps aus dem Troll-Datensatz folgen dem\n",
    "    # Muster \"monat/tag/jahr stunde:minute\"\n",
    "    if typ == 'troll':\n",
    "        # teile den String entlang des Leerzeichens in Datum und Zeit\n",
    "        date, time = date_time_raw.split(' ')\n",
    "        # teile das Datum entlang des forward-slash in Monat, Tag und Jahr\n",
    "        month, day, year = date.split('/')\n",
    "        # teile die Zeit entlang des Doppelpunktes in Stunde und Minute\n",
    "        hour, minute = time.split(':')\n",
    "    \n",
    "    # Timestamps aus dem normalen Datensatz folgen dem\n",
    "    # Muster \"weekday month day hour:minute:second timezone year\"\n",
    "    elif typ == 'normal':\n",
    "        # teile den String entlang des Leerzeichens in Wochentag,\n",
    "        # Monat (String-Abkürzung), Tag, Zeit, Zeitzone und Jahr\n",
    "        weekday, month, day, time, zone, year = date_time_raw.split(' ')\n",
    "        # teile die Zeit entlang des Doppelpunktes in Stunde, Minute und Sekunde\n",
    "        hour, minute, second = time.split(':')\n",
    "        # konvertiere die Monatsangabe mit dem \"month_dict\" in eine Zahl\n",
    "        month = month_dict[month]\n",
    "    \n",
    "    # Timestamps aus dem Trump-Datensatz folgen dem\n",
    "    # Muster \"year-month-day hour:minute:second\"\n",
    "    elif typ == 'trump':\n",
    "        # teile den String entlang des Leerzeichens in Datum und Zeit\n",
    "        date, time = date_time_raw.split(' ')\n",
    "        # teile das Datum entlang des Bindestrichs in Jahr, Monat und Tag\n",
    "        year, month, day = date.split('-')\n",
    "        # teile die Zeit entlang des Doppelpunktes in Stunde, Minute und Sekunde\n",
    "        hour, minute, second = time.split(':')\n",
    "    \n",
    "    # falls die Funktion mit einem unbekannten Typ benutzt\n",
    "    # wird, geben wir eine Fehlermeldung aus und \"None\" zurück\n",
    "    else:\n",
    "        print('unknown Tweet type!')\n",
    "        return None\n",
    "    \n",
    "    # wir verwandeln Jahr, Monat, Tag, Stunde und Minute in Ganzzahlen\n",
    "    # da der Datensatz mit den Troll-Tweets keine Informationen über die\n",
    "    # Sekunden enthält, lassen wir die Sekunden weg und geben uns mit\n",
    "    # einer minuten-genauen Auflösung der Zeit zufrieden\n",
    "    year = int(year)\n",
    "    month = int(month)\n",
    "    day = int(day)\n",
    "    hour = int(hour)\n",
    "    minute = int(minute)\n",
    "    \n",
    "    # erstelle ein datetime-Objekt aus Datum und Zeit\n",
    "    date_time = datetime.datetime(year, month, day, hour, minute)\n",
    "    \n",
    "    # gib das datetime-Objekt zurück\n",
    "    return date_time\n",
    "        "
   ]
  },
  {
   "cell_type": "code",
   "execution_count": null,
   "metadata": {},
   "outputs": [],
   "source": [
    "# teste die Funktion mit Einträgen aus allen drei Datensätzen\n",
    "trump_test = tweets_trump.loc[0]['Date']\n",
    "normal_test = tweets_normal.loc[0]['Date']\n",
    "troll_test = tweets_troll.loc[0]['Date']\n",
    "\n",
    "clean_trump = clean_date(trump_test, 'trump')\n",
    "print(clean_trump)\n",
    "clean_normal = clean_date(normal_test, 'normal')\n",
    "print(clean_normal)\n",
    "clean_troll = clean_date(troll_test, 'troll')\n",
    "print(clean_troll)"
   ]
  },
  {
   "cell_type": "code",
   "execution_count": 89,
   "metadata": {
    "collapsed": true
   },
   "outputs": [
    {
     "ename": "AttributeError",
     "evalue": "'Timestamp' object has no attribute 'split'",
     "output_type": "error",
     "traceback": [
      "\u001b[0;31m---------------------------------------------------------------------------\u001b[0m",
      "\u001b[0;31mAttributeError\u001b[0m                            Traceback (most recent call last)",
      "\u001b[0;32m<ipython-input-89-c065ab7ae0c3>\u001b[0m in \u001b[0;36m<module>\u001b[0;34m()\u001b[0m\n\u001b[1;32m      1\u001b[0m \u001b[0;31m#tweets_trump['Date'] = tweets_trump['Date'].apply(clean_date, args=['trump'])\u001b[0m\u001b[0;34m\u001b[0m\u001b[0;34m\u001b[0m\u001b[0m\n\u001b[1;32m      2\u001b[0m \u001b[0;31m#tweets_normal['Date'] = tweets_normal['Date'].apply(clean_date, args=['normal'])\u001b[0m\u001b[0;34m\u001b[0m\u001b[0;34m\u001b[0m\u001b[0m\n\u001b[0;32m----> 3\u001b[0;31m \u001b[0mtweets_troll\u001b[0m\u001b[0;34m[\u001b[0m\u001b[0;34m'Date'\u001b[0m\u001b[0;34m]\u001b[0m \u001b[0;34m=\u001b[0m \u001b[0mtweets_troll\u001b[0m\u001b[0;34m[\u001b[0m\u001b[0;34m'Date'\u001b[0m\u001b[0;34m]\u001b[0m\u001b[0;34m.\u001b[0m\u001b[0mapply\u001b[0m\u001b[0;34m(\u001b[0m\u001b[0mclean_date\u001b[0m\u001b[0;34m,\u001b[0m \u001b[0margs\u001b[0m\u001b[0;34m=\u001b[0m\u001b[0;34m[\u001b[0m\u001b[0;34m'troll'\u001b[0m\u001b[0;34m]\u001b[0m\u001b[0;34m)\u001b[0m\u001b[0;34m\u001b[0m\u001b[0m\n\u001b[0m",
      "\u001b[0;32m~/virtualenvs/p3.5_venv/lib/python3.5/site-packages/pandas/core/series.py\u001b[0m in \u001b[0;36mapply\u001b[0;34m(self, func, convert_dtype, args, **kwds)\u001b[0m\n\u001b[1;32m   3190\u001b[0m             \u001b[0;32melse\u001b[0m\u001b[0;34m:\u001b[0m\u001b[0;34m\u001b[0m\u001b[0m\n\u001b[1;32m   3191\u001b[0m                 \u001b[0mvalues\u001b[0m \u001b[0;34m=\u001b[0m \u001b[0mself\u001b[0m\u001b[0;34m.\u001b[0m\u001b[0mastype\u001b[0m\u001b[0;34m(\u001b[0m\u001b[0mobject\u001b[0m\u001b[0;34m)\u001b[0m\u001b[0;34m.\u001b[0m\u001b[0mvalues\u001b[0m\u001b[0;34m\u001b[0m\u001b[0m\n\u001b[0;32m-> 3192\u001b[0;31m                 \u001b[0mmapped\u001b[0m \u001b[0;34m=\u001b[0m \u001b[0mlib\u001b[0m\u001b[0;34m.\u001b[0m\u001b[0mmap_infer\u001b[0m\u001b[0;34m(\u001b[0m\u001b[0mvalues\u001b[0m\u001b[0;34m,\u001b[0m \u001b[0mf\u001b[0m\u001b[0;34m,\u001b[0m \u001b[0mconvert\u001b[0m\u001b[0;34m=\u001b[0m\u001b[0mconvert_dtype\u001b[0m\u001b[0;34m)\u001b[0m\u001b[0;34m\u001b[0m\u001b[0m\n\u001b[0m\u001b[1;32m   3193\u001b[0m \u001b[0;34m\u001b[0m\u001b[0m\n\u001b[1;32m   3194\u001b[0m         \u001b[0;32mif\u001b[0m \u001b[0mlen\u001b[0m\u001b[0;34m(\u001b[0m\u001b[0mmapped\u001b[0m\u001b[0;34m)\u001b[0m \u001b[0;32mand\u001b[0m \u001b[0misinstance\u001b[0m\u001b[0;34m(\u001b[0m\u001b[0mmapped\u001b[0m\u001b[0;34m[\u001b[0m\u001b[0;36m0\u001b[0m\u001b[0;34m]\u001b[0m\u001b[0;34m,\u001b[0m \u001b[0mSeries\u001b[0m\u001b[0;34m)\u001b[0m\u001b[0;34m:\u001b[0m\u001b[0;34m\u001b[0m\u001b[0m\n",
      "\u001b[0;32mpandas/_libs/src/inference.pyx\u001b[0m in \u001b[0;36mpandas._libs.lib.map_infer\u001b[0;34m()\u001b[0m\n",
      "\u001b[0;32m~/virtualenvs/p3.5_venv/lib/python3.5/site-packages/pandas/core/series.py\u001b[0m in \u001b[0;36m<lambda>\u001b[0;34m(x)\u001b[0m\n\u001b[1;32m   3177\u001b[0m         \u001b[0;31m# handle ufuncs and lambdas\u001b[0m\u001b[0;34m\u001b[0m\u001b[0;34m\u001b[0m\u001b[0m\n\u001b[1;32m   3178\u001b[0m         \u001b[0;32mif\u001b[0m \u001b[0mkwds\u001b[0m \u001b[0;32mor\u001b[0m \u001b[0margs\u001b[0m \u001b[0;32mand\u001b[0m \u001b[0;32mnot\u001b[0m \u001b[0misinstance\u001b[0m\u001b[0;34m(\u001b[0m\u001b[0mfunc\u001b[0m\u001b[0;34m,\u001b[0m \u001b[0mnp\u001b[0m\u001b[0;34m.\u001b[0m\u001b[0mufunc\u001b[0m\u001b[0;34m)\u001b[0m\u001b[0;34m:\u001b[0m\u001b[0;34m\u001b[0m\u001b[0m\n\u001b[0;32m-> 3179\u001b[0;31m             \u001b[0mf\u001b[0m \u001b[0;34m=\u001b[0m \u001b[0;32mlambda\u001b[0m \u001b[0mx\u001b[0m\u001b[0;34m:\u001b[0m \u001b[0mfunc\u001b[0m\u001b[0;34m(\u001b[0m\u001b[0mx\u001b[0m\u001b[0;34m,\u001b[0m \u001b[0;34m*\u001b[0m\u001b[0margs\u001b[0m\u001b[0;34m,\u001b[0m \u001b[0;34m**\u001b[0m\u001b[0mkwds\u001b[0m\u001b[0;34m)\u001b[0m\u001b[0;34m\u001b[0m\u001b[0m\n\u001b[0m\u001b[1;32m   3180\u001b[0m         \u001b[0;32melse\u001b[0m\u001b[0;34m:\u001b[0m\u001b[0;34m\u001b[0m\u001b[0m\n\u001b[1;32m   3181\u001b[0m             \u001b[0mf\u001b[0m \u001b[0;34m=\u001b[0m \u001b[0mfunc\u001b[0m\u001b[0;34m\u001b[0m\u001b[0m\n",
      "\u001b[0;32m<ipython-input-88-60d2e15c6107>\u001b[0m in \u001b[0;36mclean_date\u001b[0;34m(date_time_raw, typ)\u001b[0m\n\u001b[1;32m      6\u001b[0m \u001b[0;34m\u001b[0m\u001b[0m\n\u001b[1;32m      7\u001b[0m     \u001b[0;32mif\u001b[0m \u001b[0mtyp\u001b[0m \u001b[0;34m==\u001b[0m \u001b[0;34m'troll'\u001b[0m\u001b[0;34m:\u001b[0m\u001b[0;34m\u001b[0m\u001b[0m\n\u001b[0;32m----> 8\u001b[0;31m         \u001b[0mdate\u001b[0m\u001b[0;34m,\u001b[0m \u001b[0mtime\u001b[0m \u001b[0;34m=\u001b[0m \u001b[0mdate_time_raw\u001b[0m\u001b[0;34m.\u001b[0m\u001b[0msplit\u001b[0m\u001b[0;34m(\u001b[0m\u001b[0;34m' '\u001b[0m\u001b[0;34m)\u001b[0m\u001b[0;34m\u001b[0m\u001b[0m\n\u001b[0m\u001b[1;32m      9\u001b[0m         \u001b[0mmonth\u001b[0m\u001b[0;34m,\u001b[0m \u001b[0mday\u001b[0m\u001b[0;34m,\u001b[0m \u001b[0myear\u001b[0m \u001b[0;34m=\u001b[0m \u001b[0mdate\u001b[0m\u001b[0;34m.\u001b[0m\u001b[0msplit\u001b[0m\u001b[0;34m(\u001b[0m\u001b[0;34m'/'\u001b[0m\u001b[0;34m)\u001b[0m\u001b[0;34m\u001b[0m\u001b[0m\n\u001b[1;32m     10\u001b[0m         \u001b[0mhour\u001b[0m\u001b[0;34m,\u001b[0m \u001b[0mminute\u001b[0m \u001b[0;34m=\u001b[0m \u001b[0mtime\u001b[0m\u001b[0;34m.\u001b[0m\u001b[0msplit\u001b[0m\u001b[0;34m(\u001b[0m\u001b[0;34m':'\u001b[0m\u001b[0;34m)\u001b[0m\u001b[0;34m\u001b[0m\u001b[0m\n",
      "\u001b[0;31mAttributeError\u001b[0m: 'Timestamp' object has no attribute 'split'"
     ]
    }
   ],
   "source": [
    "# konvertiere alle Datumsangaben in den drei Datensätzen in datetime-Objekte\n",
    "tweets_trump['Date'] = tweets_trump['Date'].apply(clean_date, args=['trump'])\n",
    "tweets_normal['Date'] = tweets_normal['Date'].apply(clean_date, args=['normal'])\n",
    "tweets_troll['Date'] = tweets_troll['Date'].apply(clean_date, args=['troll'])"
   ]
  },
  {
   "cell_type": "code",
   "execution_count": 95,
   "metadata": {},
   "outputs": [
    {
     "data": {
      "text/plain": [
       "Timedelta('-180 days +01:23:00')"
      ]
     },
     "execution_count": 95,
     "metadata": {},
     "output_type": "execute_result"
    }
   ],
   "source": [
    "# jetzt können wir mit den Datumsangaben ganz einfach rechnen:\n",
    "# wir bekommen als Ergebnis ein timedelta-Objekt zurück\n",
    "tweets_trump.loc[0]['Date'] - tweets_trump.loc[4]['Date']"
   ]
  },
  {
   "cell_type": "code",
   "execution_count": 33,
   "metadata": {},
   "outputs": [],
   "source": [
    "# 3.E\n",
    "\n",
    "# definiere die Funktion \"calculate_length\", die ein\n",
    "# DataFrame \"df\" übergeben bekommt\n",
    "def calculate_tweet_length(df):\n",
    "    \n",
    "    # Liste, in der die Tweet-Längen gespeichert werden\n",
    "    length = []\n",
    "    \n",
    "    # Iteriere über alle Tweets\n",
    "    for tweet in df['Tweet']:\n",
    "        # füge Tweet-Länge der Liste hinzu\n",
    "        length.append(len(tweet))\n",
    "\n",
    "    # erstelle eine neue Spalte im DataFrame \"df\",\n",
    "    # indem der (zuvor noch nicht existenten) Spalte\n",
    "    # mit dem namen \"tweet_length\" die Liste \"length\"\n",
    "    # zugewiesen wird\n",
    "    df['tweet_length'] = length\n",
    "    \n",
    "# wende die oben definierte Funktion auf alle DataFrames an\n",
    "calculate_tweet_length(tweets_normal)\n",
    "calculate_tweet_length(tweets_trump)\n",
    "calculate_tweet_length(tweets_troll)\n",
    "calculate_tweet_length(tweets_troll_all)"
   ]
  },
  {
   "cell_type": "code",
   "execution_count": 35,
   "metadata": {},
   "outputs": [],
   "source": [
    "# 3.F\n",
    "def calculate_word_number(df):\n",
    "    \n",
    "    # Liste, in der die Wort-Längen gespeichert werden\n",
    "    word_number = []\n",
    "    \n",
    "    # Iteriere über alle Tweets\n",
    "    for tweet in df['Tweet']:\n",
    "        # wir gehen davon aus, dass einzelne Worte durch\n",
    "        # Leerzeichen getrennt werden\n",
    "        words = tweet.split(' ')\n",
    "        word_number.append(len(words))\n",
    "\n",
    "    # erstelle eine neue Spalte im DataFrame \"df\",\n",
    "    # indem der (zuvor noch nicht existenten) Spalte\n",
    "    # mit dem namen \"word_number\" die Liste word_number\n",
    "    # zugewiesen wird\n",
    "    df['word_number'] = word_number\n",
    "    \n",
    "calculate_word_number(tweets_normal)\n",
    "calculate_word_number(tweets_trump)\n",
    "calculate_word_number(tweets_troll)\n",
    "calculate_word_number(tweets_troll_all)"
   ]
  },
  {
   "cell_type": "code",
   "execution_count": 37,
   "metadata": {},
   "outputs": [
    {
     "data": {
      "text/html": [
       "<div>\n",
       "<style scoped>\n",
       "    .dataframe tbody tr th:only-of-type {\n",
       "        vertical-align: middle;\n",
       "    }\n",
       "\n",
       "    .dataframe tbody tr th {\n",
       "        vertical-align: top;\n",
       "    }\n",
       "\n",
       "    .dataframe thead th {\n",
       "        text-align: right;\n",
       "    }\n",
       "</style>\n",
       "<table border=\"1\" class=\"dataframe\">\n",
       "  <thead>\n",
       "    <tr style=\"text-align: right;\">\n",
       "      <th></th>\n",
       "      <th>Date</th>\n",
       "      <th>Tweet</th>\n",
       "      <th>User</th>\n",
       "      <th>tweet_length</th>\n",
       "      <th>word_number</th>\n",
       "    </tr>\n",
       "  </thead>\n",
       "  <tbody>\n",
       "    <tr>\n",
       "      <th>0</th>\n",
       "      <td>Mon Apr 06 22:19:45 PDT 2009</td>\n",
       "      <td>@switchfoot http://twitpic.com/2y1zl - Awww, t...</td>\n",
       "      <td>_TheSpecialOne_</td>\n",
       "      <td>115</td>\n",
       "      <td>20</td>\n",
       "    </tr>\n",
       "    <tr>\n",
       "      <th>1</th>\n",
       "      <td>Mon Apr 06 22:19:49 PDT 2009</td>\n",
       "      <td>is upset that he can't update his Facebook by ...</td>\n",
       "      <td>scotthamilton</td>\n",
       "      <td>111</td>\n",
       "      <td>22</td>\n",
       "    </tr>\n",
       "    <tr>\n",
       "      <th>2</th>\n",
       "      <td>Mon Apr 06 22:19:53 PDT 2009</td>\n",
       "      <td>@Kenichan I dived many times for the ball. Man...</td>\n",
       "      <td>mattycus</td>\n",
       "      <td>89</td>\n",
       "      <td>19</td>\n",
       "    </tr>\n",
       "    <tr>\n",
       "      <th>3</th>\n",
       "      <td>Mon Apr 06 22:19:57 PDT 2009</td>\n",
       "      <td>my whole body feels itchy and like its on fire</td>\n",
       "      <td>ElleCTF</td>\n",
       "      <td>47</td>\n",
       "      <td>11</td>\n",
       "    </tr>\n",
       "    <tr>\n",
       "      <th>4</th>\n",
       "      <td>Mon Apr 06 22:19:57 PDT 2009</td>\n",
       "      <td>@nationwideclass no, it's not behaving at all....</td>\n",
       "      <td>Karoli</td>\n",
       "      <td>111</td>\n",
       "      <td>22</td>\n",
       "    </tr>\n",
       "  </tbody>\n",
       "</table>\n",
       "</div>"
      ],
      "text/plain": [
       "                           Date  \\\n",
       "0  Mon Apr 06 22:19:45 PDT 2009   \n",
       "1  Mon Apr 06 22:19:49 PDT 2009   \n",
       "2  Mon Apr 06 22:19:53 PDT 2009   \n",
       "3  Mon Apr 06 22:19:57 PDT 2009   \n",
       "4  Mon Apr 06 22:19:57 PDT 2009   \n",
       "\n",
       "                                               Tweet             User  \\\n",
       "0  @switchfoot http://twitpic.com/2y1zl - Awww, t...  _TheSpecialOne_   \n",
       "1  is upset that he can't update his Facebook by ...    scotthamilton   \n",
       "2  @Kenichan I dived many times for the ball. Man...         mattycus   \n",
       "3    my whole body feels itchy and like its on fire           ElleCTF   \n",
       "4  @nationwideclass no, it's not behaving at all....           Karoli   \n",
       "\n",
       "   tweet_length  word_number  \n",
       "0           115           20  \n",
       "1           111           22  \n",
       "2            89           19  \n",
       "3            47           11  \n",
       "4           111           22  "
      ]
     },
     "execution_count": 37,
     "metadata": {},
     "output_type": "execute_result"
    }
   ],
   "source": [
    "# der Datensatz hat jetzt die beiden neuen Spalten \"tweet_length\"\n",
    "# und \"word_number\"\n",
    "tweets_normal.head()"
   ]
  },
  {
   "cell_type": "code",
   "execution_count": 96,
   "metadata": {},
   "outputs": [],
   "source": [
    "# 3.G\n",
    "tweets_normal.to_csv('daten/tweets_normal.csv', encoding='ISO-8859-1')\n",
    "tweets_trump.to_csv('daten/tweets_trump.csv', encoding='ISO-8859-1')\n",
    "tweets_troll.to_csv('daten/tweets_troll.csv', encoding='ISO-8859-1')\n",
    "tweets_troll_all.to_csv('daten/tweets_troll_all.csv', encoding='ISO-8859-1')"
   ]
  },
  {
   "cell_type": "markdown",
   "metadata": {},
   "source": [
    "[Anfang](#top)"
   ]
  },
  {
   "cell_type": "markdown",
   "metadata": {},
   "source": [
    "<a name=\"daten_beschaffen\"></a>4. Histogramme\n",
    "---"
   ]
  },
  {
   "cell_type": "code",
   "execution_count": 41,
   "metadata": {},
   "outputs": [
    {
     "data": {
      "image/png": "[encoded data removed]",
      "text/plain": [
       "<Figure size 432x288 with 1 Axes>"
      ]
     },
     "metadata": {},
     "output_type": "display_data"
    }
   ],
   "source": [
    "# 4.A\n",
    "# importiere das Untermodul pyplot aus der Bibliothek\n",
    "# matplotlib zum darstellen von Grafiken\n",
    "import matplotlib.pyplot as plt\n",
    "# mit diesem Kommando teilen wir dem Jupyter-Notebook mit,\n",
    "# dass es Grafiken direkt im Notebook anzeigen soll\n",
    "%matplotlib inline\n",
    "\n",
    "# erstelle ein einfaches Histogram der Follower der Troll-Accounts\n",
    "plt.hist(tweets_troll['Follower']);"
   ]
  },
  {
   "cell_type": "code",
   "execution_count": 43,
   "metadata": {},
   "outputs": [
    {
     "data": {
      "image/png": "[encoded data removed]",
      "text/plain": [
       "<Figure size 432x288 with 1 Axes>"
      ]
     },
     "metadata": {},
     "output_type": "display_data"
    }
   ],
   "source": [
    "# 4.Ba\n",
    "# die Werte liegen alle in einem Bereich von 0 bis 25000 Tweets\n",
    "# indem wir die \"range\" entsprechend festlegen und die Anzahl der Bins\n",
    "# auf 25 setzen, liegen die einzelnen Bins zwischen \"glatten\" Vielfachen\n",
    "# von 1000. Das ist anschaulich in einfach zu interpretieren. Diese \n",
    "# Darstellung lässt z.B. direkt ablesen, dass die meisten Accounts\n",
    "# zwischen 0 und 5000 Follower haben. Allerdings geht auch viel Information\n",
    "# über den Bereich mit wenigen Followern (0-5000) verloren, da hier alle\n",
    "# Accounts in einen einzigen bin aggregiert werden\n",
    "\n",
    "# die rwidth auf einen Wert kleiner 1.0 zu setzen ist auch eine gute Idee,\n",
    "# da es die einzelen bins in der Darstellung besser voneinander abgrenzt.\n",
    "\n",
    "# Histogram\n",
    "plt.hist(tweets_troll['Follower'], range=[0,25000], bins=25, rwidth=0.8)\n",
    "\n",
    "# Achsenbeschriftungen und Titel\n",
    "plt.xlabel('Anzahl Follower')\n",
    "plt.ylabel('Anzahl Accounts')\n",
    "plt.title('Anzahl der Follower pro Troll-Account');"
   ]
  },
  {
   "cell_type": "code",
   "execution_count": 45,
   "metadata": {},
   "outputs": [
    {
     "data": {
      "image/png": "[encoded data removed]",
      "text/plain": [
       "<Figure size 432x288 with 1 Axes>"
      ]
     },
     "metadata": {},
     "output_type": "display_data"
    }
   ],
   "source": [
    "# 4.Bb\n",
    "# um den Bereich zwischen 0 und 5000 genauer zu betrachten, setzen wir die\n",
    "# range entsprechend und schrauben die Anzahl der bins nach oben:\n",
    "\n",
    "# Histogram\n",
    "plt.hist(tweets_troll['Follower'], range=[0,5000], bins=50, rwidth=0.8)\n",
    "\n",
    "# Achsenbeschriftungen und Titel\n",
    "plt.xlabel('Anzahl Follower')\n",
    "plt.ylabel('Anzahl Accounts')\n",
    "plt.title('Anzahl der Follower pro Troll-Account');"
   ]
  },
  {
   "cell_type": "code",
   "execution_count": 47,
   "metadata": {},
   "outputs": [
    {
     "data": {
      "image/png": "[encoded data removed]",
      "text/plain": [
       "<Figure size 432x288 with 1 Axes>"
      ]
     },
     "metadata": {},
     "output_type": "display_data"
    }
   ],
   "source": [
    "# 3.C wenige bins\n",
    "# hier geht (wie schon oben beschrieben) viel Information verloren\n",
    "\n",
    "# Histogram\n",
    "plt.hist(tweets_troll['Follower'], range=[0,5000], bins=5, rwidth=0.8)\n",
    "\n",
    "# Achsenbeschriftungen und Titel\n",
    "plt.xlabel('Anzahl Follower')\n",
    "plt.ylabel('Anzahl Accounts')\n",
    "plt.title('Anzahl der Follower pro Troll-Account');"
   ]
  },
  {
   "cell_type": "code",
   "execution_count": 49,
   "metadata": {},
   "outputs": [
    {
     "data": {
      "image/png": "[encoded data removed]",
      "text/plain": [
       "<Figure size 432x288 with 1 Axes>"
      ]
     },
     "metadata": {},
     "output_type": "display_data"
    }
   ],
   "source": [
    "# 3.C viele bins\n",
    "# hier geht der Vorteil der Aggregierten Information verloren und es\n",
    "# ist schwierig, aus der Darstellung allgemeinere Erkenntnisse zu extrahieren\n",
    "\n",
    "# Histogram\n",
    "plt.hist(tweets_troll['Follower'], range=[0,5000], bins=1000, rwidth=0.8)\n",
    "\n",
    "# Achsenbeschriftungen und Titel\n",
    "plt.xlabel('Anzahl Follower')\n",
    "plt.ylabel('Anzahl Accounts')\n",
    "plt.title('Anzahl der Follower pro Troll-Account');\n",
    "\n",
    "# ein guter Wert für den Bereich 0-5000 Follower ist (wie in 3.B) z.B. bins=50"
   ]
  },
  {
   "cell_type": "code",
   "execution_count": 55,
   "metadata": {},
   "outputs": [
    {
     "data": {
      "image/png": "[encoded data removed]",
      "text/plain": [
       "<Figure size 432x288 with 1 Axes>"
      ]
     },
     "metadata": {},
     "output_type": "display_data"
    }
   ],
   "source": [
    "# 3.D\n",
    "\n",
    "# Um die beiden plots zu vergleichen ist es hilfreich, range und bins\n",
    "# jeweils gleich zu wählen.\n",
    "\n",
    "# Um die Lesbarkeit der Visualisierung zu verbesern, setzen wir den\n",
    "# alpha-wert (Durchsichtigkeit) der Balken auf 50% - da sonst die\n",
    "# größeren Balken die dahinterliegenden Balken verdecken\n",
    "\n",
    "# HINWEIS: mit dem Argument \"label\" weisen wir jedem der beiden\n",
    "# Histogramme einen \"Namen\" zu, der später in der Legende aufscheint\n",
    "\n",
    "# Histogramm der Follower\n",
    "plt.hist(tweets_troll['Follower'], range=[0,5000], bins=25, rwidth=0.8, \\\n",
    "         alpha=0.5, label='Follower')\n",
    "\n",
    "# Histogram der gefolgten Accounts\n",
    "plt.hist(tweets_troll['Following'], range=[0,5000], bins=25, rwidth=0.8, \\\n",
    "         alpha=0.5, label='Following')\n",
    "\n",
    "# Achsenbeschriftungen und Titel\n",
    "plt.xlabel('Anzahl gefolgter bzw. folgender Accounts')\n",
    "plt.ylabel('Anzahl Accounts')\n",
    "plt.title('Gefolgschaft von Troll-Accounts');\n",
    "\n",
    "# Legende\n",
    "plt.legend();\n",
    "\n",
    "# Die Struktur der Verteilung der gefolgen Accounts sieht auf den Ersten Blick\n",
    "# aus, wie die der folgenden Accounts (viele im niedrigen hunderter Bereich, \n",
    "# wenige im hohen tausender Berech).\n",
    "# Passen wir die range an, um uns den niedrigen tausender Bereich anzusehen, \n",
    "# lässt sich ein leichter Trend erkennen: Trolle scheinen mehr accounts zu\n",
    "# folgen als sie Follower haben."
   ]
  },
  {
   "cell_type": "code",
   "execution_count": 57,
   "metadata": {},
   "outputs": [
    {
     "data": {
      "image/png": "[encoded data removed]",
      "text/plain": [
       "<Figure size 432x288 with 1 Axes>"
      ]
     },
     "metadata": {},
     "output_type": "display_data"
    }
   ],
   "source": [
    "# 3.E (density)\n",
    "# das Argument \"density\" verändert die Darstellung der Beobachtungen auf der y-Achse. \n",
    "# Vorher war die absolute Anzahl der Beobachtungen abgebildet, mit density=True\n",
    "# wird die normierte Anzahl der beobachtungen abgebildet, die als Wahrscheinlichkeits-\n",
    "# dichte interpretiert werden kann\n",
    "\n",
    "# Histogramm der Follower\n",
    "plt.hist(tweets_troll['Follower'], range=[0,5000], bins=25, rwidth=0.8, \\\n",
    "         alpha=0.5, label='Follower', density=True)\n",
    "\n",
    "# Histogram der gefolgten Accounts\n",
    "plt.hist(tweets_troll['Following'], range=[0,5000], bins=25, rwidth=0.8, \\\n",
    "         alpha=0.5, label='Following', density=True)\n",
    "\n",
    "# Achsenbeschriftungen und Titel\n",
    "plt.xlabel('Anzahl gefolgter bzw. folgender Accounts')\n",
    "plt.ylabel('Wahrscheinlichkeitsdichte')\n",
    "plt.title('Wahrscheinlichkeitsdichte der Gefolgschaft von Troll-Accounts');\n",
    "\n",
    "# Legende\n",
    "plt.legend();"
   ]
  },
  {
   "cell_type": "code",
   "execution_count": 58,
   "metadata": {},
   "outputs": [
    {
     "data": {
      "image/png": "[encoded data removed]",
      "text/plain": [
       "<Figure size 432x288 with 1 Axes>"
      ]
     },
     "metadata": {},
     "output_type": "display_data"
    }
   ],
   "source": [
    "# 3.E (cumulative)\n",
    "# wenn cumulative=True, dann zeigt jeder bin nicht nur die Anzahl der Beobachtungen\n",
    "# in ebendiesem bin sondern die Anzahl in dem bin PLUS die Anzahl der Beobachtungen\n",
    "# in allen Vorangegangenen bins. Die Anzahl der Beobachtungen im letzten Bin entspricht\n",
    "# also immer der Gesamtanzahl der Beobachtungen.\n",
    "\n",
    "# Histogramm der Follower\n",
    "plt.hist(tweets_troll['Follower'], range=[0,5000], bins=25, rwidth=0.8, \\\n",
    "         alpha=0.5, label='Follower', cumulative=True)\n",
    "\n",
    "# Histogram der gefolgten Accounts\n",
    "plt.hist(tweets_troll['Following'], range=[0,5000], bins=25, rwidth=0.8, \\\n",
    "         alpha=0.5, label='Following', cumulative=True)\n",
    "\n",
    "# Achsenbeschriftungen und Titel\n",
    "plt.xlabel('Anzahl gefolgter bzw. folgender Accounts')\n",
    "plt.ylabel('Anzahl Accounts')\n",
    "plt.title('Kumulative Verteilung der Gefolgschaft von Troll-Accounts');\n",
    "\n",
    "# Legende\n",
    "plt.legend();"
   ]
  },
  {
   "cell_type": "code",
   "execution_count": 60,
   "metadata": {},
   "outputs": [
    {
     "data": {
      "image/png": "[encoded data removed]",
      "text/plain": [
       "<Figure size 432x288 with 1 Axes>"
      ]
     },
     "metadata": {},
     "output_type": "display_data"
    }
   ],
   "source": [
    "# 3.E (density & cumulative)\n",
    "# ist sowohl density=True als auch cumulative=True, dann lässt sich schön beobachten,\n",
    "# dass die Wahrscheinlichkeitsdichte auf 1 normiert ist, dass heißt die kumulierten \n",
    "# Wahrscheinlichkeiten, eine Beobachtung in einem Bin zu finden ist im letzten bin gleich 1\n",
    "\n",
    "# Histogramm der Follower\n",
    "plt.hist(tweets_troll['Follower'], range=[0,5000], bins=25, rwidth=0.8, \\\n",
    "         alpha=0.5, label='Follower', cumulative=True, density=True)\n",
    "\n",
    "# Histogram der gefolgten Accounts\n",
    "plt.hist(tweets_troll['Following'], range=[0,5000], bins=25, rwidth=0.8, \\\n",
    "         alpha=0.5, label='Following', cumulative=True, density=True)\n",
    "\n",
    "# Achsenbeschriftungen und Titel\n",
    "plt.xlabel('Anzahl gefolgter bzw. folgender Accounts')\n",
    "plt.ylabel('Wahrscheinlichkeitsdichte')\n",
    "plt.title('Kumulative Verteilung der Wahrscheinlichkeitsdichte der \\nGefolgschaft von Troll-Accounts');\n",
    "\n",
    "# Legende\n",
    "plt.legend();"
   ]
  },
  {
   "cell_type": "markdown",
   "metadata": {},
   "source": [
    "[Anfang](#top)"
   ]
  }
 ],
 "metadata": {
  "kernelspec": {
   "display_name": "Python 3",
   "language": "python",
   "name": "python3"
  },
  "language_info": {
   "codemirror_mode": {
    "name": "ipython",
    "version": 3
   },
   "file_extension": ".py",
   "mimetype": "text/x-python",
   "name": "python",
   "nbconvert_exporter": "python",
   "pygments_lexer": "ipython3",
   "version": "3.6.5"
  }
 },
 "nbformat": 4,
 "nbformat_minor": 2
}
