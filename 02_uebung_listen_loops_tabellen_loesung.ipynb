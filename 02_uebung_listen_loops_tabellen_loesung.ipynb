{
 "cells": [
  {
   "cell_type": "markdown",
   "metadata": {},
   "source": [
    "_Lizenz: Das folgende Lehrmaterial kann unter einer [CC-BY-SA 4.0](https://creativecommons.org/licenses/by/4.0/legalcode) Lizenz frei verwendet, verbreitet und modifiziert werden._   \n",
    " _Authoren: Jana Lasser (jana.lasser@ds.mpg.de)_  \n",
    " _Das Lehrmaterial wurde im Zuge des Projektes \"Daten Lesen Lernen\", gefördert vom Stifterverband und der Heinz Nixdorf Stiftung erstellt._"
   ]
  },
  {
   "cell_type": "markdown",
   "metadata": {},
   "source": [
    "# Lösungen zu Übung 2: Listen, Loops und Tabellen"
   ]
  },
  {
   "cell_type": "markdown",
   "metadata": {},
   "source": [
    "### Listen und Loops"
   ]
  },
  {
   "cell_type": "code",
   "execution_count": null,
   "metadata": {},
   "outputs": [],
   "source": [
    "# 1.A\n",
    "wort_liste = ['Ein', 'string', 'ist', 'eine',\\\n",
    "             'Kette', 'von', 'Zeichen']"
   ]
  },
  {
   "cell_type": "code",
   "execution_count": null,
   "metadata": {},
   "outputs": [],
   "source": [
    "# 1.B\n",
    "for wort in wort_liste:\n",
    "    print(wort)"
   ]
  },
  {
   "cell_type": "code",
   "execution_count": null,
   "metadata": {},
   "outputs": [],
   "source": [
    "# 1.C\n",
    "satz = '' # das ist ein leerer string\n",
    "\n",
    "for wort in wort_liste:\n",
    "    satz = satz + wort\n",
    "    \n",
    "print(satz)"
   ]
  },
  {
   "cell_type": "code",
   "execution_count": null,
   "metadata": {},
   "outputs": [],
   "source": [
    "# 1.C zweiter Anlauf:\n",
    "satz = ''\n",
    "\n",
    "for wort in wort_liste:\n",
    "    # addiere ein Leerzeichen vor jedem Wort\n",
    "    satz = satz + ' ' + wort \n",
    "    \n",
    "# addiere einen Punkt am Ende des Satzes\n",
    "satz = satz + '.'\n",
    "\n",
    "print(satz)"
   ]
  },
  {
   "cell_type": "code",
   "execution_count": null,
   "metadata": {},
   "outputs": [],
   "source": [
    "# 1.D \n",
    "zahlen = [1,2,3,4,5,6,7,8,9,10]\n",
    "\n",
    "for zahl in zahlen:\n",
    "    print(zahl)"
   ]
  },
  {
   "cell_type": "code",
   "execution_count": null,
   "metadata": {},
   "outputs": [],
   "source": [
    "# 1.E\n",
    "# gerade Zahlen\n",
    "print(zahlen[1::2])\n",
    "\n",
    "# ungerade Zahlen\n",
    "print(zahlen[0::2])\n",
    "\n",
    "# die ersten vier Elemente\n",
    "print(zahlen[0:4])\n",
    "\n",
    "# die letzten vier Elemente\n",
    "print(zahlen[-4:])"
   ]
  },
  {
   "cell_type": "markdown",
   "metadata": {},
   "source": [
    "### Tabellen"
   ]
  },
  {
   "cell_type": "code",
   "execution_count": null,
   "metadata": {},
   "outputs": [],
   "source": [
    "# 2.A\n",
    "# importiere die Bibliothek Pandas unter dem\n",
    "# Kürzel \"pd\"\n",
    "import pandas as pd\n",
    "\n",
    "# lade den Datensatz und speichere das resultierende\n",
    "# DataFrame in der Variable \"titanic_data\"\n",
    "titanic_data = pd.read_csv('daten/titanic.csv')"
   ]
  },
  {
   "cell_type": "code",
   "execution_count": null,
   "metadata": {},
   "outputs": [],
   "source": [
    "# 2.B\n",
    "# zeige die ersten paar Zeilen des Datensatzes an\n",
    "titanic_data.head()\n",
    "\n",
    "length_data = len(titanic_data)\n",
    "print('Der Datensatz hat {} Einträge.'.format(length_data))"
   ]
  },
  {
   "cell_type": "markdown",
   "metadata": {},
   "source": [
    "2.C\n",
    "\n",
    "Diese Aufgabe ist mehr eine Recherche-Aufgabe, aber auch das ist sehr oft Teil der Arbeit, wenn man den Inhalt eines Datensatzes verstehen will. Informationen über den Datensatz \"titanic\" finden sich nach kurzem Googlen z.B. [hier](https://www.kaggle.com/francksylla/titanic-machine-learning-from-disaster). Wir tragen also Informationen über die einzelnen Spalten zusammen:\n",
    "  * ```sibsp``` steht für \"sibling\" oder \"spouse\" (Geschwister, Ehepartner) und ist ein Indikator dafür, ob ein\\*e Passagier\\*in Verwandte auf dem Schiff hatte.\n",
    "  * ```parch``` steht für \"parent\" oder \"child\" (Eltern, Kinder) und ist ein Indikator dafür, ob ein\\*e Passagier\\*in Elternteil oder Kind von einer/einem anderen Passagier\\*in am Schiff waren.\n",
    "  * ```alone``` ist entsprechend ein Indikator dafür, ob eine Person allein unterwegs war (sowohl ```sibsp``` als auch ```parch``` sind null).\n",
    "  * ```pclass``` oder ```class``` stehen für die Klasse, in der die Person gereist ist (einmal als Zahl, einmal als Wort).\n",
    "  * ```fare``` ist der Kaufpreis des Tickets, ```embark town``` steht für die Stadt, an der die Person zugestiegen ist und ```embarked``` ist ein Kürzel für die ```embark town```.\n",
    "  * ```sex``` und ```age``` sind Aussagen über Geschlecht und Alter der Person.\n",
    "  * ```survived``` und ```alive``` sagen aus, ob die Person das Unglück überlebt hat (einmal als Zahl, einmal als Wort).\n",
    "  * ```deck``` steht für das Deck, auf dem die Person auf der Titanic untergebracht war. \n",
    "  * ```NaN``` wird als Eintrag benutzt, falls keine Information vorhanden ist."
   ]
  },
  {
   "cell_type": "code",
   "execution_count": null,
   "metadata": {},
   "outputs": [],
   "source": [
    "# 2.D \n",
    "# berechne den Ticketpreis als Mittel über\n",
    "# die Spalte \"fare\" in der der Preis, den jede\n",
    "# Person bezahl hat hinterlegt ist\n",
    "mean_price = titanic_data['fare'].mean()\n",
    "print('Der durchschnittliche Ticketpreis ist {}.'\\\n",
    "      .format(mean_price))"
   ]
  },
  {
   "cell_type": "code",
   "execution_count": null,
   "metadata": {},
   "outputs": [],
   "source": [
    "# 2.E Optional \n",
    "# berecne die Anzahln der Überlebenden als Summe\n",
    "# über die Salte \"survived\". Überlebende sind hier\n",
    "# mit einer \"1\" markiert, während gestorbene mit\n",
    "# einer \"0\" markiert sind\n",
    "survivors = titanic_data['survived'].sum()\n",
    "print('{} Personen haben das Unglück mit der Titanic überlebt.'\\\n",
    "     .format(survivors))"
   ]
  },
  {
   "cell_type": "code",
   "execution_count": null,
   "metadata": {},
   "outputs": [],
   "source": [
    "# 2.F\n",
    "lange_liste = list(range(0,100))\n",
    "listenlaenge = len(lange_liste)\n",
    "print(listenlaenge)"
   ]
  },
  {
   "cell_type": "code",
   "execution_count": null,
   "metadata": {},
   "outputs": [],
   "source": [
    "# 2.G Optional\n",
    "zahlen_liste = [7, 104, 79, 23, 56]\n",
    "summen_liste = [] # dies ist eine leere Liste\n",
    "\n",
    "for zahl in zahlen_liste:\n",
    "    # berechne die Summe aus Zahl und Summe\n",
    "    # aller Zahlen in der Liste\n",
    "    zahl = zahl + sum(zahlen_liste)\n",
    "    \n",
    "    # gib die neu berechnete Zahl aus\n",
    "    print('neue Zahl: {}'.format(zahl))\n",
    "    \n",
    "    # füge die neu berechnete Zahl der neuen\n",
    "    # Liste \"summen_liste\" hinzu\n",
    "    summen_liste.append(zahl)\n",
    "    \n",
    "print(summen_liste)"
   ]
  },
  {
   "cell_type": "code",
   "execution_count": null,
   "metadata": {},
   "outputs": [],
   "source": [
    "# 2.H\n",
    "lange_liste[0::2] = [0]*50\n",
    "print(lange_liste)"
   ]
  }
 ],
 "metadata": {
  "kernelspec": {
   "display_name": "Python 3",
   "language": "python",
   "name": "python3"
  }
 },
 "nbformat": 4,
 "nbformat_minor": 2
}
