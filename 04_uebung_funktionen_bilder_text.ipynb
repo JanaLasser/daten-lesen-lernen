{
 "cells": [
  {
   "cell_type": "markdown",
   "metadata": {},
   "source": [
    "_Lizenz: Das folgende Lehrmaterial kann unter einer [CC-BY-SA 4.0](https://creativecommons.org/licenses/by/4.0/legalcode) Lizenz frei verwendet, verbreitet und modifiziert werden._   \n",
    " _Authoren: Jana Lasser (jana.lasser@ds.mpg.de)_  \n",
    " _Das Lehrmaterial wurde im Zuge des Projektes \"Daten Lesen Lernen\", gefördert vom Stifterverband und der Heinz Nixdorf Stiftung erstellt._"
   ]
  },
  {
   "cell_type": "markdown",
   "metadata": {},
   "source": [
    "# Übung 4\n",
    "### Praktische Hinweise\n",
    "$\\rightarrow$ Übungen sind dafür gedacht, dass ihr sie euch daheim anseht und versucht, ein paar Aufgaben selbst zu lösen. In den Tutorien könnt ihr euch weiter mit dem Lösungen der Aufgaben beschäftigen und dabei Hilfe von den Tutor*innen bekommen.  \n",
    "\n",
    "$\\rightarrow$ Wenn ein Fehler auftritt:\n",
    "1. Fehlermeldung _lesen_ und _verstehen_\n",
    "2. Versuchen, selbst eine Lösung zu finden ($\\rightarrow$ hier findet das Lernen statt!)\n",
    "3. Das Problem googlen (Stichwort: Stackoverflow) oder den/die Nachbar*in fragen\n",
    "4. Tutor*in fragen\n",
    "\n",
    "$\\rightarrow$ Unter <font color='green'>**HINWEIS**</font> werden Hinweise gegeben, die für die Lösung der Aufgabe hilfreich sind und oftmals auch weiterführende Informationen zur Aufgabe liefern.\n",
    "\n",
    "$\\rightarrow$ Mit **(Optional)** gekennzeichnete Übungsteile sind für besonders schnelle Menschen :-)."
   ]
  },
  {
   "cell_type": "markdown",
   "metadata": {},
   "source": [
    "<a name=\"top\"></a>Inhalt\n",
    "---\n",
    "* [Aufgaben](#aufgaben)\n",
    "* [Exkurs Bilder](#bilder)\n",
    "* [Exkurs Text](#text)"
   ]
  },
  {
   "cell_type": "markdown",
   "metadata": {},
   "source": [
    "<a name=\"aufgaben\"></a> Funktionen, Bilder und Text\n",
    "---\n",
    "Für die Abschnitte zu Bildern und Text gibt es kein Lehrvideo, deswegen gibt es nach den Aufgaben jeweils einen Exkurs mit einer kurzen Einführung in das Thema, die du dir ansehen solltest, bevor du die Aufgaben bearbeitest.\n",
    "1. **Funktionen**\n",
    "  1. Schreibe eine Funktion, die zwei Zahlen als Argumente erhält und ihre Summe, Differenz, Produkt und Quotienten auf der Kommandozeile ausgibt. Teste die Funktion mit verschiedenen Zahlenpaaren.\n",
    "  2. Schreibe eine andere Funktion, die eine Liste mit Zahlen als ein einzelnes Argument erhält und die Summe der Quadrate der Zahlen zurückgibt. Teste die Funktion mit verschiedenen Listen, die Zahlen enthalten.\n",
    "  3. **(Optional)** Schreibe eine Funktion, die eine Liste mit Zahlen als Argument erhält, diese sortiert und dann zurückgibt (benutze hierfür nicht ```sort()```, sonst wäre es ja langweilig...). Teste deine Funktion ausgiebig, auch mit großen Listen. Was für Probleme können beim Sortieren von Listen entstehen, insbesondere wenn die Liste sehr lange ist?\n",
    "  \n",
    "2. **Bilder**  \n",
    "<font color='green'>**HINWEIS:** Für den folgenden Abschnitt, lade bitte das Bild \"cat_image.JPG\" aus dem Ordner dieser Übung im StudIP herunter und in deinen Arbeitsbereich am Jupyter-Hub (am besten in einem eigenen Order \"daten\" hoch. </font>\n",
    "  1. Lade das Bild \"cat_image.JPG\" mit Hilfe der Bibliothek ```PIL```, transformiere es in mit ```NumPy``` in ein array und zeige es mit ```matplotlib.pyplot``` an (genau so wie unten im Exkurs beschrieben).\n",
    "  2. Zeige nur das Gesicht der Katze an, indem du den entsprechenden Bereich in dem array auswählst.\n",
    "  3. Speichere den Ausschnitt ab.\n",
    "  4. **(Optional)** Erstelle ein Graustufenbild, zeige es in Matplotlib (in Graustufen!) and und speichere es. [Hier](https://stackoverflow.com/questions/12201577/how-can-i-convert-an-rgb-image-into-grayscale-in-python) gibt es z.B. mehrere Beschreibungen, wie das in Python möglich ist. Wichtig: es gibt keine einzelne richtige Lösung sondern viele Wege zum Ziel.\n",
    "  \n",
    "3. **Text**  \n",
    "<font color='green'>**HINWEIS:** Für den folgenden Abschnitt, lade bitte den Text \"GG.txt\" aus dem Ordner dieser Übung im StudIP herunter und in deinen Arbeitsbereich am Jupyter-Hub (am besten in einem eigenen Order \"daten\" hoch. Der Text enthält das Deutsche Grundgesetz. </font>\n",
    "\n",
    "  1. Lade den Text aus der Datei \"GG.txt\" (genauso wie unten im Exkurs beschrieben).\n",
    "  2. Finde heraus, wie oft das Wort \"Freiheit\" und das Wort \"Gott\" im Grundgesetzt vorkommt. Experimentiere mit anderen Wörtern, die dich interessieren.\n",
    "  3. Entferne die Zeichenkombination ```\\n```, die für einen Zeilenumbruch steht aus dem Text. Wieviele Zeichen hat das Grundgesetz jetzt? <font color='green'>**HINWEIS**: um Werte in einer Liste dauerhaft zu verändern, musst du auf sie über ihren Index zugreifen. Dabei ist z.B. die Funktion ```enumerate()``` hilfreich [siehe Dokumentation](http://book.pythontips.com/en/latest/enumerate.html). Zur Illustration des Problems:</font>"
   ]
  },
  {
   "cell_type": "code",
   "execution_count": null,
   "metadata": {},
   "outputs": [],
   "source": [
    "# erstelle eine Testliste\n",
    "liste = ['a', 'b', 'c', 'd', 'f']\n",
    "print('originale liste: {}'.format(liste))\n",
    "\n",
    "# das verändert nichts, da immer nur der \n",
    "# Wert der temporären Variablen \"eintrag\"\n",
    "# verändert wird\n",
    "for eintrag in liste:\n",
    "    eintrag = 'z'\n",
    "    \n",
    "print('erster Versuch: {}'.format(liste))\n",
    "\n",
    "# das verändert die Einträge in der\n",
    "# Liste nachhaltig\n",
    "for index in range(len(liste)):\n",
    "    liste[index] = 'z'\n",
    "    \n",
    "print('zweiter Versuch: {}'.format(liste))"
   ]
  },
  {
   "cell_type": "markdown",
   "metadata": {},
   "source": [
    "3. **Text Fortsetzung**  \n",
    "  4. Wie viele Leerzeichen hat das Grundgesezt und was ist die durchschnittliche Länge eines Wortes?\n",
    "  5. **(Optional)**: erstelle eine zusätzliche Spalte in der Tabelle, indem die durchschnittliche Wortlänge für jede Zeile angeführt wird und speichere die Tabelle als .csv-Datei.Was für Probleme fallen dir bei deinen Versuchen, eine durchschnittliche Wortlänge je Zeile auszurechenen auf? Wie verhalten sich leere Zeilen?\n",
    "  6. **(Optional)**: vergleiche die durchschnittliche Länge eines Wortes mit einem anderen Text, der dich interessiert. Ist sie größer oder kleiner? Wie kannst du dir das erklären?"
   ]
  },
  {
   "cell_type": "markdown",
   "metadata": {},
   "source": [
    "[Anfang](#top)"
   ]
  },
  {
   "cell_type": "markdown",
   "metadata": {},
   "source": [
    "<a name=\"bilder\"></a> Exkurs Bilder\n",
    "---\n",
    "Um Bilder zu öffnen benutzen wir das Untermodul ```Image``` der Bibliothek ```PIL``` (**P**ython **I**mage **L**ibrary, [Dokumentation](https://pillow.readthedocs.io/en/3.1.x/reference/Image.html)). Bilder anzeigen können wir mit der Funktion ```imshow()``` der Bibliothek ```matplotlib.pyplot``` ([Dokumentation](https://matplotlib.org/api/_as_gen/matplotlib.pyplot.imshow.html)):"
   ]
  },
  {
   "cell_type": "code",
   "execution_count": null,
   "metadata": {},
   "outputs": [],
   "source": [
    "# importiere \"Image\" aus der Bibliothek PIL\n",
    "from PIL import Image\n",
    "\n",
    "# importiere das Untermodul \"pyplot\" aus der\n",
    "# Bibliothek Matplotlib mit dem Kürzel \"plt\"\n",
    "import matplotlib.pyplot as plt\n",
    "\n",
    "# um Bilder direkt im Dokument anzuzeigen,\n",
    "# müssen wir dem Jupyter-Notebook noch folgenden\n",
    "# Befel geben:\n",
    "%matplotlib inline\n",
    "\n",
    "# lade das Bild mit der Funktion open()\n",
    "# und speichere es in der Variable \"bild\"\n",
    "# HINWEIS: dieses Kommando funktioniert nur, wenn\n",
    "# das Bild im Ordner \"daten\" liegt. Sollte\n",
    "# das Bild im selben Ordner wie dieses Dokument\n",
    "# liegen, ist das alternative Kommando\n",
    "# bild = Image.open('cat_image.JPG')\n",
    "bild = Image.open('daten/cat_image.JPG')\n",
    "\n",
    "# zeige das Bild an\n",
    "plt.imshow(bild)"
   ]
  },
  {
   "cell_type": "markdown",
   "metadata": {},
   "source": [
    "Wir können uns einfach einen Überblick über die in dem Bild enthaltene Information machen. Digitale Bilder bestehen aus einzelnen Punkten (Pixel), die jeweils drei Farbwerte (rot, grün und blau) besitzen. Diese Punkte sind in zwei Dimensionen neben und untereinander angeordnet und bilden eine sogenannte Matrix (in Python heißt das \"array\"). \n",
    "\n",
    "Um das von uns geladene Bild in ein einfach zu handhabendes array zu verwandeln, verwenden wir die Funktion ```asarray()``` der Bibliothek ```NumPy``` ([Dokumentation](https://docs.scipy.org/doc/numpy/reference/generated/numpy.asarray.html)):"
   ]
  },
  {
   "cell_type": "code",
   "execution_count": null,
   "metadata": {},
   "outputs": [],
   "source": [
    "# importiere die Bibliothek numpy mit dem\n",
    "# Kürzel \"np\"\n",
    "import numpy as np\n",
    "\n",
    "# verwandle das Bild von vorhin in ein array\n",
    "bild = np.asarray(bild)"
   ]
  },
  {
   "cell_type": "markdown",
   "metadata": {},
   "source": [
    "Numpy arrays haben eine Menge eingebauter Funktionen (siehe [hier](https://docs.scipy.org/doc/numpy/reference/generated/numpy.array.html)), mit deren Hilfe wir uns einen guten ersten Überblick über die im Bild enthaltene Information machen können:"
   ]
  },
  {
   "cell_type": "code",
   "execution_count": null,
   "metadata": {},
   "outputs": [],
   "source": [
    "# \"shape\" gibtuns Informationen über die\n",
    "# Anzahl der Pixel entlang jeder Dimension\n",
    "# des Bildes. Dieses Bild ist 3632 Punkte hoch,\n",
    "# 5456 Punkte breit und drei Punkte \"tief\". Hinter\n",
    "# der Tiefe des Bildes verbergen sich die drei\n",
    "# Farbkanäle des bunten Bildes (rot, grün, blau)\n",
    "print(bild.shape)"
   ]
  },
  {
   "cell_type": "code",
   "execution_count": null,
   "metadata": {},
   "outputs": [],
   "source": [
    "# Farbwerte in digitalen Bildern können Werte\n",
    "# zwischen 0 und 254 annehmen. Wir können uns\n",
    "# einfach ansehen, wie viele Farbwerte das Bild\n",
    "# besitzt\n",
    "print('maximaler Farbwert: {}'.format(bild.max()))\n",
    "print('minimaler Farbwert: {}'.format(bild.min()))\n",
    "print('mittlerer Farbwert: {}'.format(bild.mean()))"
   ]
  },
  {
   "cell_type": "markdown",
   "metadata": {},
   "source": [
    "Außerdem ist es mit der Darstellung als array auch sehr einfach, nur Teile des Bildes anzuzeigen:"
   ]
  },
  {
   "cell_type": "code",
   "execution_count": null,
   "metadata": {},
   "outputs": [],
   "source": [
    "# zeige nur die obere Hälfte des Bildes an\n",
    "plt.imshow(bild[0:1500,0:,0:])"
   ]
  },
  {
   "cell_type": "code",
   "execution_count": null,
   "metadata": {},
   "outputs": [],
   "source": [
    "# zeige nur einen Farbkanal an\n",
    "plt.imshow(bild[0:,0:,0])"
   ]
  },
  {
   "cell_type": "markdown",
   "metadata": {},
   "source": [
    "Schlussendlich können wir das erzeugte Bild mit der Funktion ```imsave()``` ([Dokumentation](https://matplotlib.org/api/_as_gen/matplotlib.pyplot.imsave.html)) speichern."
   ]
  },
  {
   "cell_type": "code",
   "execution_count": null,
   "metadata": {},
   "outputs": [],
   "source": [
    "# zeige das Bild an\n",
    "plt.imshow(bild[0:,0:,0])\n",
    "\n",
    "# speichere das Bild unter dem Namen \"katze.png\"\n",
    "plt.savefig('daten/katze.png')"
   ]
  },
  {
   "cell_type": "markdown",
   "metadata": {},
   "source": [
    "[Anfang](#top)"
   ]
  },
  {
   "cell_type": "markdown",
   "metadata": {},
   "source": [
    "<a name=\"text\"></a> Exkurs Text \n",
    "---\n",
    "Um Text zu laden, können wir die in Python eingebaute Funktion ```open()``` verwenden ([Dokumentation](https://docs.python.org/3/library/functions.html#open)). Das liefert erst einmal ein sogenanntes file-handle zurück, das auf die Datei \"zeigt\". Um auf den in der Datei enthaltenen Text zugreifen zu können, müssen wir noch die Funktion ```readlines()``` ([Dokumentation](https://docs.python.org/2.4/lib/bltin-file-objects.html)) bemühen, die den Text zeilenweise \"liest\" und eine Liste von Strings (einer für jede Zeile) zurückgibt."
   ]
  },
  {
   "cell_type": "code",
   "execution_count": null,
   "metadata": {},
   "outputs": [],
   "source": [
    "text_file = open('daten/GG.txt')\n",
    "text = text_file.readlines()"
   ]
  },
  {
   "cell_type": "code",
   "execution_count": null,
   "metadata": {},
   "outputs": [],
   "source": [
    "print(text)\n",
    "# HINWEIS: die Zeichenkombination \"\\n\" erzeugt\n",
    "# einen Zeilenumbruch und ist entsprechend oft\n",
    "# im Text zu finden"
   ]
  },
  {
   "cell_type": "markdown",
   "metadata": {},
   "source": [
    "Die Anzahl der Zeilen lässt sich sehr einfach herausfinden"
   ]
  },
  {
   "cell_type": "code",
   "execution_count": null,
   "metadata": {},
   "outputs": [],
   "source": [
    "len(text)"
   ]
  },
  {
   "cell_type": "markdown",
   "metadata": {},
   "source": [
    "Ebenso die Anzahl der Zeichen pro Zeile"
   ]
  },
  {
   "cell_type": "code",
   "execution_count": null,
   "metadata": {},
   "outputs": [],
   "source": [
    "zeichen = [len(zeile) for zeile in text]\n",
    "print(zeichen)"
   ]
  },
  {
   "cell_type": "markdown",
   "metadata": {},
   "source": [
    "Und die insgesamte Anzahl an Zeichen"
   ]
  },
  {
   "cell_type": "code",
   "execution_count": null,
   "metadata": {},
   "outputs": [],
   "source": [
    "print('Das deutsche Grundgesetz hat {} Zeichen.'\\\n",
    "      .format(sum(zeichen)))"
   ]
  },
  {
   "cell_type": "markdown",
   "metadata": {},
   "source": [
    "Zu guter Letzt wollen wir noch die Anzahl der Artikel im Grundgesetz herausfinden. Das machen wir mit Hilfe der Funktion ```count()``` "
   ]
  },
  {
   "cell_type": "code",
   "execution_count": null,
   "metadata": {},
   "outputs": [],
   "source": [
    "artikel = [zeile.count('Art') for zeile in text]\n",
    "sum(artikel)"
   ]
  },
  {
   "cell_type": "markdown",
   "metadata": {},
   "source": [
    "Um das Grundgesetz für die Zukunft in einer Form vorliegen haben, die einfacher zu handhaben ist, speichern wir es zeilenweise als Tabelle in einem Pandas ```DataFrame``` und exportieren es dann mittels der Funktion ```to_csv()``` ([Dokumentation](https://pandas.pydata.org/pandas-docs/stable/reference/api/pandas.DataFrame.to_csv.html)), die das DataFrame bereitstellt als .csv-Datei:"
   ]
  },
  {
   "cell_type": "code",
   "execution_count": null,
   "metadata": {},
   "outputs": [],
   "source": [
    "# importiere die Bibliothek \"Pandas\" unter\n",
    "# dem Kürzel \"pd\"\n",
    "import pandas as pd\n",
    "\n",
    "# erstelle ein neues DataFrame mit den Zeilen des\n",
    "# Grundgesetzes in einer Spalte und der Zeichenanzahl\n",
    "# in der zweiten Spalte\n",
    "tabelle = pd.DataFrame({'zeilen':text, 'zeichen':zeichen})"
   ]
  },
  {
   "cell_type": "code",
   "execution_count": null,
   "metadata": {},
   "outputs": [],
   "source": [
    "# zeige die ersten Zeilen des DataFrame an\n",
    "tabelle.head()"
   ]
  },
  {
   "cell_type": "code",
   "execution_count": null,
   "metadata": {},
   "outputs": [],
   "source": [
    "# greife auf die Spalte mit dem Namen 'zeile'zu\n",
    "tabelle['zeilen']"
   ]
  },
  {
   "cell_type": "code",
   "execution_count": null,
   "metadata": {},
   "outputs": [],
   "source": [
    "# speichere das DataFrame\n",
    "tabelle.to_csv('daten/grundgesetz.csv')"
   ]
  }
 ],
 "metadata": {
  "kernelspec": {
   "display_name": "Python 3",
   "language": "python",
   "name": "python3"
  },
  "language_info": {
   "codemirror_mode": {
    "name": "ipython",
    "version": 3
   },
   "file_extension": ".py",
   "mimetype": "text/x-python",
   "name": "python",
   "nbconvert_exporter": "python",
   "pygments_lexer": "ipython3",
   "version": "3.6.5"
  }
 },
 "nbformat": 4,
 "nbformat_minor": 2
}
